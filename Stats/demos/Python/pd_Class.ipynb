{
 "cells": [
  {
   "cell_type": "code",
   "execution_count": 1,
   "id": "ee4c064d-4184-4c4c-892c-95422ad6171e",
   "metadata": {},
   "outputs": [],
   "source": [
    "import pandas as pd\n",
    "import numpy as np\n",
    "from matplotlib import pyplot as plt\n",
    "import seaborn as sns"
   ]
  },
  {
   "cell_type": "markdown",
   "id": "de83a492-52a3-40c0-a7ee-68f05db4327a",
   "metadata": {},
   "source": [
    "#### Data & Libraries"
   ]
  },
  {
   "cell_type": "code",
   "execution_count": null,
   "id": "2bd188f1-1a80-4aa6-a2dd-2ab127293869",
   "metadata": {},
   "outputs": [],
   "source": [
    "'''\n",
    "from sklearn.naive_bayes import MultinomialNB\n",
    "from sklearn.discriminant_analysis import LinearDiscriminantAnalysis\n",
    "from sklearn.linear_model import LogisticRegression #, LogisticRegressionCV\n",
    "from sklearn.tree import DecisionTreeClassifier\n",
    "from sklearn.metrics import confusion_matrix, precision_recall_fscore_support\n",
    "from sklearn.metrics import roc_curve, accuracy_score, roc_auc_score\n",
    "\n",
    "import statsmodels.api as sm\n",
    "\n",
    "from imblearn.over_sampling import SMOTE, ADASYN, BorderlineSMOTE\n",
    "from pygam import LinearGAM, s, f, l\n",
    "\n",
    "\n",
    "from dmba import classificationSummary\n",
    "\n",
    "import seaborn as sns\n",
    "import matplotlib.pyplot as plt\n",
    "\n",
    "%matplotlib inline\n",
    "'''"
   ]
  },
  {
   "cell_type": "markdown",
   "id": "c969c379-8cf6-4932-a14f-0bcde55ba003",
   "metadata": {},
   "source": [
    "#### done"
   ]
  },
  {
   "cell_type": "markdown",
   "id": "3f0deb92-00f7-41a6-b2bb-66c9238d017c",
   "metadata": {
    "jp-MarkdownHeadingCollapsed": true
   },
   "source": [
    "### 5.1 나이브 베이즈"
   ]
  },
  {
   "cell_type": "code",
   "execution_count": 3,
   "id": "6d97b700-6d09-48ca-8b97-51b389fbe79c",
   "metadata": {},
   "outputs": [],
   "source": [
    "# 데이터 불러오기\n",
    "LOAN_DATA_CSV = ''\n",
    "loan_data = pd.read_csv(LOAN_DATA_CSV)"
   ]
  },
  {
   "cell_type": "code",
   "execution_count": 15,
   "id": "2a412111-a060-4a65-ab7e-a14d73fef564",
   "metadata": {},
   "outputs": [],
   "source": [
    "# convert to categorical\n",
    "loan_data.outcome = loan_data.outcome.astype('category')\n",
    "loan_data.outcome.cat.reorder_categories(['paid off', 'default'])\n",
    "loan_data.purpose_ = loan_data.purpose_.astype('category')\n",
    "loan_data.home_ = loan_data.home_.astype('category')\n",
    "loan_data.emp_len_ = loan_data.emp_len_.astype('category')"
   ]
  },
  {
   "cell_type": "code",
   "execution_count": 4,
   "id": "536cd8e7-506f-47cd-af7f-eb79fc8e060b",
   "metadata": {},
   "outputs": [],
   "source": [
    "# 범주형 피처 -> 더미 변수로 변환 \n",
    "predictors = ['purpose_', 'home_', 'emp_len_']\n",
    "outcome = 'outcome'\n",
    "X = pd.get_dummies(loan_data[predictors], prefix='', prefix_sep='')\n",
    "y = loan_data[outcome]"
   ]
  },
  {
   "cell_type": "code",
   "execution_count": 5,
   "id": "13f4c25f-9085-4543-a49d-26c0944e6b69",
   "metadata": {},
   "outputs": [
    {
     "data": {
      "text/plain": [
       "Index(['credit_card', 'debt_consolidation', 'home_improvement',\n",
       "       'major_purchase', 'medical', 'other', 'small_business', 'MORTGAGE',\n",
       "       'OWN', 'RENT', ' < 1 Year', ' > 1 Year'],\n",
       "      dtype='object')"
      ]
     },
     "execution_count": 5,
     "metadata": {},
     "output_type": "execute_result"
    }
   ],
   "source": [
    "# 하나의 예측변수의 요인 수준만큼의 칼럼이 새로 생김 \n",
    "X.columns"
   ]
  },
  {
   "cell_type": "code",
   "execution_count": 10,
   "id": "b1b5a596-13b4-4149-96bd-f8b698b80a76",
   "metadata": {},
   "outputs": [
    {
     "data": {
      "text/plain": [
       "12"
      ]
     },
     "execution_count": 10,
     "metadata": {},
     "output_type": "execute_result"
    }
   ],
   "source": [
    "len(X.columns)"
   ]
  },
  {
   "cell_type": "code",
   "execution_count": 6,
   "id": "aa72dad0-6fbb-4b76-b030-4cf1e5bb0618",
   "metadata": {},
   "outputs": [],
   "source": [
    "from sklearn.naive_bayes import MultinomialNB"
   ]
  },
  {
   "cell_type": "code",
   "execution_count": 7,
   "id": "516ee751-f2c4-447d-b8f8-44ea8c839484",
   "metadata": {},
   "outputs": [
    {
     "data": {
      "text/html": [
       "<style>#sk-container-id-1 {color: black;background-color: white;}#sk-container-id-1 pre{padding: 0;}#sk-container-id-1 div.sk-toggleable {background-color: white;}#sk-container-id-1 label.sk-toggleable__label {cursor: pointer;display: block;width: 100%;margin-bottom: 0;padding: 0.3em;box-sizing: border-box;text-align: center;}#sk-container-id-1 label.sk-toggleable__label-arrow:before {content: \"▸\";float: left;margin-right: 0.25em;color: #696969;}#sk-container-id-1 label.sk-toggleable__label-arrow:hover:before {color: black;}#sk-container-id-1 div.sk-estimator:hover label.sk-toggleable__label-arrow:before {color: black;}#sk-container-id-1 div.sk-toggleable__content {max-height: 0;max-width: 0;overflow: hidden;text-align: left;background-color: #f0f8ff;}#sk-container-id-1 div.sk-toggleable__content pre {margin: 0.2em;color: black;border-radius: 0.25em;background-color: #f0f8ff;}#sk-container-id-1 input.sk-toggleable__control:checked~div.sk-toggleable__content {max-height: 200px;max-width: 100%;overflow: auto;}#sk-container-id-1 input.sk-toggleable__control:checked~label.sk-toggleable__label-arrow:before {content: \"▾\";}#sk-container-id-1 div.sk-estimator input.sk-toggleable__control:checked~label.sk-toggleable__label {background-color: #d4ebff;}#sk-container-id-1 div.sk-label input.sk-toggleable__control:checked~label.sk-toggleable__label {background-color: #d4ebff;}#sk-container-id-1 input.sk-hidden--visually {border: 0;clip: rect(1px 1px 1px 1px);clip: rect(1px, 1px, 1px, 1px);height: 1px;margin: -1px;overflow: hidden;padding: 0;position: absolute;width: 1px;}#sk-container-id-1 div.sk-estimator {font-family: monospace;background-color: #f0f8ff;border: 1px dotted black;border-radius: 0.25em;box-sizing: border-box;margin-bottom: 0.5em;}#sk-container-id-1 div.sk-estimator:hover {background-color: #d4ebff;}#sk-container-id-1 div.sk-parallel-item::after {content: \"\";width: 100%;border-bottom: 1px solid gray;flex-grow: 1;}#sk-container-id-1 div.sk-label:hover label.sk-toggleable__label {background-color: #d4ebff;}#sk-container-id-1 div.sk-serial::before {content: \"\";position: absolute;border-left: 1px solid gray;box-sizing: border-box;top: 0;bottom: 0;left: 50%;z-index: 0;}#sk-container-id-1 div.sk-serial {display: flex;flex-direction: column;align-items: center;background-color: white;padding-right: 0.2em;padding-left: 0.2em;position: relative;}#sk-container-id-1 div.sk-item {position: relative;z-index: 1;}#sk-container-id-1 div.sk-parallel {display: flex;align-items: stretch;justify-content: center;background-color: white;position: relative;}#sk-container-id-1 div.sk-item::before, #sk-container-id-1 div.sk-parallel-item::before {content: \"\";position: absolute;border-left: 1px solid gray;box-sizing: border-box;top: 0;bottom: 0;left: 50%;z-index: -1;}#sk-container-id-1 div.sk-parallel-item {display: flex;flex-direction: column;z-index: 1;position: relative;background-color: white;}#sk-container-id-1 div.sk-parallel-item:first-child::after {align-self: flex-end;width: 50%;}#sk-container-id-1 div.sk-parallel-item:last-child::after {align-self: flex-start;width: 50%;}#sk-container-id-1 div.sk-parallel-item:only-child::after {width: 0;}#sk-container-id-1 div.sk-dashed-wrapped {border: 1px dashed gray;margin: 0 0.4em 0.5em 0.4em;box-sizing: border-box;padding-bottom: 0.4em;background-color: white;}#sk-container-id-1 div.sk-label label {font-family: monospace;font-weight: bold;display: inline-block;line-height: 1.2em;}#sk-container-id-1 div.sk-label-container {text-align: center;}#sk-container-id-1 div.sk-container {/* jupyter's `normalize.less` sets `[hidden] { display: none; }` but bootstrap.min.css set `[hidden] { display: none !important; }` so we also need the `!important` here to be able to override the default hidden behavior on the sphinx rendered scikit-learn.org. See: https://github.com/scikit-learn/scikit-learn/issues/21755 */display: inline-block !important;position: relative;}#sk-container-id-1 div.sk-text-repr-fallback {display: none;}</style><div id=\"sk-container-id-1\" class=\"sk-top-container\"><div class=\"sk-text-repr-fallback\"><pre>MultinomialNB(alpha=0.01)</pre><b>In a Jupyter environment, please rerun this cell to show the HTML representation or trust the notebook. <br />On GitHub, the HTML representation is unable to render, please try loading this page with nbviewer.org.</b></div><div class=\"sk-container\" hidden><div class=\"sk-item\"><div class=\"sk-estimator sk-toggleable\"><input class=\"sk-toggleable__control sk-hidden--visually\" id=\"sk-estimator-id-1\" type=\"checkbox\" checked><label for=\"sk-estimator-id-1\" class=\"sk-toggleable__label sk-toggleable__label-arrow\">MultinomialNB</label><div class=\"sk-toggleable__content\"><pre>MultinomialNB(alpha=0.01)</pre></div></div></div></div></div>"
      ],
      "text/plain": [
       "MultinomialNB(alpha=0.01)"
      ]
     },
     "execution_count": 7,
     "metadata": {},
     "output_type": "execute_result"
    }
   ],
   "source": [
    "naive_model = MultinomialNB(alpha=0.01, fit_prior=True)\n",
    "naive_model.fit(X, y)"
   ]
  },
  {
   "cell_type": "code",
   "execution_count": 9,
   "id": "b2b733e8-548d-49c0-9fb8-075c9964b8da",
   "metadata": {},
   "outputs": [
    {
     "name": "stdout",
     "output_type": "stream",
     "text": [
      "[[-2.98568079 -1.65075848 -3.91515406 -4.38810745 -5.34359996 -3.25614089\n",
      "  -4.18335906 -1.93946238 -3.58417726 -1.82144088 -4.15016524 -1.14705315]\n",
      " [-2.77207366 -1.69253222 -3.73665122 -4.02494832 -5.34977262 -3.40212145\n",
      "  -4.96201704 -1.81302493 -3.6131958  -1.94345848 -4.57066335 -1.13015885]]\n"
     ]
    }
   ],
   "source": [
    "# 각 클래스별 특징의 로그 확률 출력\n",
    "print(naive_model.feature_log_prob_)"
   ]
  },
  {
   "cell_type": "code",
   "execution_count": 11,
   "id": "5201b306-8b8a-4637-839b-66c9d352b750",
   "metadata": {},
   "outputs": [
    {
     "data": {
      "text/plain": [
       "(2, 12)"
      ]
     },
     "execution_count": 11,
     "metadata": {},
     "output_type": "execute_result"
    }
   ],
   "source": [
    "naive_model.feature_log_prob_.shape # y값 차원: 2, 더미 변수 개수: 12"
   ]
  },
  {
   "cell_type": "code",
   "execution_count": 13,
   "id": "3cfdc496-758e-43f5-bcfd-e1806cf39a64",
   "metadata": {},
   "outputs": [
    {
     "name": "stdout",
     "output_type": "stream",
     "text": [
      "predicted class:  default\n"
     ]
    }
   ],
   "source": [
    "# 새로운 데이터에 대한 예측 \n",
    "new_loan = X.loc[146:146, :]\n",
    "## 예측한 클래스 반환\n",
    "print('predicted class: ', naive_model.predict(new_loan)[0])"
   ]
  },
  {
   "cell_type": "code",
   "execution_count": 17,
   "id": "b396cf87-c99b-4a8a-a277-6bac9492fe6e",
   "metadata": {},
   "outputs": [
    {
     "name": "stdout",
     "output_type": "stream",
     "text": [
      "predicted probabilities     default  paid off\n",
      "0  0.653696  0.346304\n"
     ]
    }
   ],
   "source": [
    "## 클래스별 확률 반환\n",
    "probabilities = pd.DataFrame(naive_model.predict_proba(new_loan), columns=loan_data[outcome].cat.categories)\n",
    "print('predicted probabilities', probabilities)"
   ]
  },
  {
   "cell_type": "markdown",
   "id": "4224f92a-c4ac-4878-bdab-7f70085de778",
   "metadata": {},
   "source": [
    "### 5.2 LDA"
   ]
  },
  {
   "cell_type": "code",
   "execution_count": 2,
   "id": "de4bf738-3786-43a8-a766-83f6ee6213a9",
   "metadata": {},
   "outputs": [],
   "source": [
    "loan_3000_path = ''\n",
    "loan3000 = pd.read_csv(loan_3000_path)"
   ]
  },
  {
   "cell_type": "code",
   "execution_count": 3,
   "id": "f0a1bcf3-2d74-4986-85aa-aee732e40026",
   "metadata": {},
   "outputs": [],
   "source": [
    "from sklearn.discriminant_analysis import LinearDiscriminantAnalysis"
   ]
  },
  {
   "cell_type": "code",
   "execution_count": 4,
   "id": "3b925737-c70f-465c-9e5e-a1bbb81af173",
   "metadata": {},
   "outputs": [],
   "source": [
    "loan3000.outcome = loan3000.outcome.astype('category')"
   ]
  },
  {
   "cell_type": "code",
   "execution_count": 5,
   "id": "c3b567aa-c98c-4fde-9ad0-b2b173c18a7f",
   "metadata": {},
   "outputs": [],
   "source": [
    "predictors = ['borrower_score', 'payment_inc_ratio']\n",
    "outcome = 'outcome'"
   ]
  },
  {
   "cell_type": "code",
   "execution_count": 6,
   "id": "07d91971-d306-4b60-8a51-b08765eb9d82",
   "metadata": {},
   "outputs": [],
   "source": [
    "X = loan3000[predictors]\n",
    "y = loan3000[outcome]"
   ]
  },
  {
   "cell_type": "code",
   "execution_count": 7,
   "id": "ebc995c8-e4a4-4f29-92ab-03e0ff047c0b",
   "metadata": {},
   "outputs": [
    {
     "data": {
      "text/html": [
       "<style>#sk-container-id-1 {color: black;background-color: white;}#sk-container-id-1 pre{padding: 0;}#sk-container-id-1 div.sk-toggleable {background-color: white;}#sk-container-id-1 label.sk-toggleable__label {cursor: pointer;display: block;width: 100%;margin-bottom: 0;padding: 0.3em;box-sizing: border-box;text-align: center;}#sk-container-id-1 label.sk-toggleable__label-arrow:before {content: \"▸\";float: left;margin-right: 0.25em;color: #696969;}#sk-container-id-1 label.sk-toggleable__label-arrow:hover:before {color: black;}#sk-container-id-1 div.sk-estimator:hover label.sk-toggleable__label-arrow:before {color: black;}#sk-container-id-1 div.sk-toggleable__content {max-height: 0;max-width: 0;overflow: hidden;text-align: left;background-color: #f0f8ff;}#sk-container-id-1 div.sk-toggleable__content pre {margin: 0.2em;color: black;border-radius: 0.25em;background-color: #f0f8ff;}#sk-container-id-1 input.sk-toggleable__control:checked~div.sk-toggleable__content {max-height: 200px;max-width: 100%;overflow: auto;}#sk-container-id-1 input.sk-toggleable__control:checked~label.sk-toggleable__label-arrow:before {content: \"▾\";}#sk-container-id-1 div.sk-estimator input.sk-toggleable__control:checked~label.sk-toggleable__label {background-color: #d4ebff;}#sk-container-id-1 div.sk-label input.sk-toggleable__control:checked~label.sk-toggleable__label {background-color: #d4ebff;}#sk-container-id-1 input.sk-hidden--visually {border: 0;clip: rect(1px 1px 1px 1px);clip: rect(1px, 1px, 1px, 1px);height: 1px;margin: -1px;overflow: hidden;padding: 0;position: absolute;width: 1px;}#sk-container-id-1 div.sk-estimator {font-family: monospace;background-color: #f0f8ff;border: 1px dotted black;border-radius: 0.25em;box-sizing: border-box;margin-bottom: 0.5em;}#sk-container-id-1 div.sk-estimator:hover {background-color: #d4ebff;}#sk-container-id-1 div.sk-parallel-item::after {content: \"\";width: 100%;border-bottom: 1px solid gray;flex-grow: 1;}#sk-container-id-1 div.sk-label:hover label.sk-toggleable__label {background-color: #d4ebff;}#sk-container-id-1 div.sk-serial::before {content: \"\";position: absolute;border-left: 1px solid gray;box-sizing: border-box;top: 0;bottom: 0;left: 50%;z-index: 0;}#sk-container-id-1 div.sk-serial {display: flex;flex-direction: column;align-items: center;background-color: white;padding-right: 0.2em;padding-left: 0.2em;position: relative;}#sk-container-id-1 div.sk-item {position: relative;z-index: 1;}#sk-container-id-1 div.sk-parallel {display: flex;align-items: stretch;justify-content: center;background-color: white;position: relative;}#sk-container-id-1 div.sk-item::before, #sk-container-id-1 div.sk-parallel-item::before {content: \"\";position: absolute;border-left: 1px solid gray;box-sizing: border-box;top: 0;bottom: 0;left: 50%;z-index: -1;}#sk-container-id-1 div.sk-parallel-item {display: flex;flex-direction: column;z-index: 1;position: relative;background-color: white;}#sk-container-id-1 div.sk-parallel-item:first-child::after {align-self: flex-end;width: 50%;}#sk-container-id-1 div.sk-parallel-item:last-child::after {align-self: flex-start;width: 50%;}#sk-container-id-1 div.sk-parallel-item:only-child::after {width: 0;}#sk-container-id-1 div.sk-dashed-wrapped {border: 1px dashed gray;margin: 0 0.4em 0.5em 0.4em;box-sizing: border-box;padding-bottom: 0.4em;background-color: white;}#sk-container-id-1 div.sk-label label {font-family: monospace;font-weight: bold;display: inline-block;line-height: 1.2em;}#sk-container-id-1 div.sk-label-container {text-align: center;}#sk-container-id-1 div.sk-container {/* jupyter's `normalize.less` sets `[hidden] { display: none; }` but bootstrap.min.css set `[hidden] { display: none !important; }` so we also need the `!important` here to be able to override the default hidden behavior on the sphinx rendered scikit-learn.org. See: https://github.com/scikit-learn/scikit-learn/issues/21755 */display: inline-block !important;position: relative;}#sk-container-id-1 div.sk-text-repr-fallback {display: none;}</style><div id=\"sk-container-id-1\" class=\"sk-top-container\"><div class=\"sk-text-repr-fallback\"><pre>LinearDiscriminantAnalysis()</pre><b>In a Jupyter environment, please rerun this cell to show the HTML representation or trust the notebook. <br />On GitHub, the HTML representation is unable to render, please try loading this page with nbviewer.org.</b></div><div class=\"sk-container\" hidden><div class=\"sk-item\"><div class=\"sk-estimator sk-toggleable\"><input class=\"sk-toggleable__control sk-hidden--visually\" id=\"sk-estimator-id-1\" type=\"checkbox\" checked><label for=\"sk-estimator-id-1\" class=\"sk-toggleable__label sk-toggleable__label-arrow\">LinearDiscriminantAnalysis</label><div class=\"sk-toggleable__content\"><pre>LinearDiscriminantAnalysis()</pre></div></div></div></div></div>"
      ],
      "text/plain": [
       "LinearDiscriminantAnalysis()"
      ]
     },
     "execution_count": 7,
     "metadata": {},
     "output_type": "execute_result"
    }
   ],
   "source": [
    "loan_lda = LinearDiscriminantAnalysis()\n",
    "loan_lda.fit(X, y)"
   ]
  },
  {
   "cell_type": "code",
   "execution_count": 8,
   "id": "aa12654e-08f5-4b1c-8c35-699c70039c40",
   "metadata": {},
   "outputs": [
    {
     "data": {
      "text/html": [
       "<div>\n",
       "<style scoped>\n",
       "    .dataframe tbody tr th:only-of-type {\n",
       "        vertical-align: middle;\n",
       "    }\n",
       "\n",
       "    .dataframe tbody tr th {\n",
       "        vertical-align: top;\n",
       "    }\n",
       "\n",
       "    .dataframe thead th {\n",
       "        text-align: right;\n",
       "    }\n",
       "</style>\n",
       "<table border=\"1\" class=\"dataframe\">\n",
       "  <thead>\n",
       "    <tr style=\"text-align: right;\">\n",
       "      <th></th>\n",
       "      <th>0</th>\n",
       "    </tr>\n",
       "  </thead>\n",
       "  <tbody>\n",
       "    <tr>\n",
       "      <th>borrower_score</th>\n",
       "      <td>7.175839</td>\n",
       "    </tr>\n",
       "    <tr>\n",
       "      <th>payment_inc_ratio</th>\n",
       "      <td>-0.099676</td>\n",
       "    </tr>\n",
       "  </tbody>\n",
       "</table>\n",
       "</div>"
      ],
      "text/plain": [
       "                          0\n",
       "borrower_score     7.175839\n",
       "payment_inc_ratio -0.099676"
      ]
     },
     "execution_count": 8,
     "metadata": {},
     "output_type": "execute_result"
    }
   ],
   "source": [
    "# discriminator weight\n",
    "pd.DataFrame(loan_lda.scalings_, index=X.columns)"
   ]
  },
  {
   "cell_type": "code",
   "execution_count": 9,
   "id": "be99b929-cac5-45ad-b5ca-84f288bd1882",
   "metadata": {},
   "outputs": [],
   "source": [
    "# class probabilites\n",
    "pred = pd.DataFrame(loan_lda.predict_proba(loan3000[predictors]), columns=loan_lda.classes_)"
   ]
  },
  {
   "cell_type": "code",
   "execution_count": 10,
   "id": "163817ff-4af0-4d95-a0d9-c2bd2d4b9eec",
   "metadata": {},
   "outputs": [
    {
     "data": {
      "text/html": [
       "<div>\n",
       "<style scoped>\n",
       "    .dataframe tbody tr th:only-of-type {\n",
       "        vertical-align: middle;\n",
       "    }\n",
       "\n",
       "    .dataframe tbody tr th {\n",
       "        vertical-align: top;\n",
       "    }\n",
       "\n",
       "    .dataframe thead th {\n",
       "        text-align: right;\n",
       "    }\n",
       "</style>\n",
       "<table border=\"1\" class=\"dataframe\">\n",
       "  <thead>\n",
       "    <tr style=\"text-align: right;\">\n",
       "      <th></th>\n",
       "      <th>default</th>\n",
       "      <th>paid off</th>\n",
       "    </tr>\n",
       "  </thead>\n",
       "  <tbody>\n",
       "    <tr>\n",
       "      <th>0</th>\n",
       "      <td>0.553544</td>\n",
       "      <td>0.446456</td>\n",
       "    </tr>\n",
       "    <tr>\n",
       "      <th>1</th>\n",
       "      <td>0.558953</td>\n",
       "      <td>0.441047</td>\n",
       "    </tr>\n",
       "    <tr>\n",
       "      <th>2</th>\n",
       "      <td>0.272696</td>\n",
       "      <td>0.727304</td>\n",
       "    </tr>\n",
       "    <tr>\n",
       "      <th>3</th>\n",
       "      <td>0.506254</td>\n",
       "      <td>0.493746</td>\n",
       "    </tr>\n",
       "    <tr>\n",
       "      <th>4</th>\n",
       "      <td>0.609952</td>\n",
       "      <td>0.390048</td>\n",
       "    </tr>\n",
       "  </tbody>\n",
       "</table>\n",
       "</div>"
      ],
      "text/plain": [
       "    default  paid off\n",
       "0  0.553544  0.446456\n",
       "1  0.558953  0.441047\n",
       "2  0.272696  0.727304\n",
       "3  0.506254  0.493746\n",
       "4  0.609952  0.390048"
      ]
     },
     "execution_count": 10,
     "metadata": {},
     "output_type": "execute_result"
    }
   ],
   "source": [
    "pred.head()"
   ]
  },
  {
   "cell_type": "code",
   "execution_count": 11,
   "id": "d5ca3290-ab36-4c87-a880-f144b7c01524",
   "metadata": {},
   "outputs": [
    {
     "data": {
      "text/plain": [
       "array([[0.46280277, 8.86181347],\n",
       "       [0.53906752, 7.4651989 ]])"
      ]
     },
     "execution_count": 11,
     "metadata": {},
     "output_type": "execute_result"
    }
   ],
   "source": [
    "loan_lda.means_ # 각 클래스에 속하는 데이터 포인트들의 각 예측 변수의 평균값을 계산"
   ]
  },
  {
   "cell_type": "code",
   "execution_count": 12,
   "id": "b8c6724c-3faf-4874-9d44-b4168bc20161",
   "metadata": {},
   "outputs": [
    {
     "data": {
      "text/plain": [
       "(2, 2)"
      ]
     },
     "execution_count": 12,
     "metadata": {},
     "output_type": "execute_result"
    }
   ],
   "source": [
    "loan_lda.means_.shape"
   ]
  },
  {
   "cell_type": "code",
   "execution_count": 15,
   "id": "aa853885-d3b8-48fa-95b0-a4b50f725bfa",
   "metadata": {},
   "outputs": [],
   "source": [
    "# visualization\n",
    "center = np.mean(loan_lda.means_, axis=0)\n",
    "slope = - loan_lda.scalings_[0] / loan_lda.scalings_[1]\n",
    "intercept = center[1] - center[0] * slope"
   ]
  },
  {
   "cell_type": "code",
   "execution_count": 16,
   "id": "35e9d2af-0d33-4b40-8ab3-820185407562",
   "metadata": {},
   "outputs": [],
   "source": [
    "x_0 = (0 - intercept) / slope # 0 = slope * x + intercept \n",
    "x_20 = (20 - intercept) / slope"
   ]
  },
  {
   "cell_type": "code",
   "execution_count": 17,
   "id": "547c51e0-8676-44b8-aa1f-b23eeb39244a",
   "metadata": {},
   "outputs": [
    {
     "data": {
      "text/html": [
       "<div>\n",
       "<style scoped>\n",
       "    .dataframe tbody tr th:only-of-type {\n",
       "        vertical-align: middle;\n",
       "    }\n",
       "\n",
       "    .dataframe tbody tr th {\n",
       "        vertical-align: top;\n",
       "    }\n",
       "\n",
       "    .dataframe thead th {\n",
       "        text-align: right;\n",
       "    }\n",
       "</style>\n",
       "<table border=\"1\" class=\"dataframe\">\n",
       "  <thead>\n",
       "    <tr style=\"text-align: right;\">\n",
       "      <th></th>\n",
       "      <th>Unnamed: 0</th>\n",
       "      <th>outcome</th>\n",
       "      <th>purpose_</th>\n",
       "      <th>dti</th>\n",
       "      <th>borrower_score</th>\n",
       "      <th>payment_inc_ratio</th>\n",
       "      <th>default</th>\n",
       "    </tr>\n",
       "  </thead>\n",
       "  <tbody>\n",
       "    <tr>\n",
       "      <th>0</th>\n",
       "      <td>32109</td>\n",
       "      <td>paid off</td>\n",
       "      <td>debt_consolidation</td>\n",
       "      <td>21.23</td>\n",
       "      <td>0.40</td>\n",
       "      <td>5.11135</td>\n",
       "      <td>0.553544</td>\n",
       "    </tr>\n",
       "    <tr>\n",
       "      <th>1</th>\n",
       "      <td>16982</td>\n",
       "      <td>default</td>\n",
       "      <td>credit_card</td>\n",
       "      <td>15.49</td>\n",
       "      <td>0.40</td>\n",
       "      <td>5.43165</td>\n",
       "      <td>0.558953</td>\n",
       "    </tr>\n",
       "    <tr>\n",
       "      <th>2</th>\n",
       "      <td>25335</td>\n",
       "      <td>paid off</td>\n",
       "      <td>debt_consolidation</td>\n",
       "      <td>27.30</td>\n",
       "      <td>0.70</td>\n",
       "      <td>9.23003</td>\n",
       "      <td>0.272696</td>\n",
       "    </tr>\n",
       "    <tr>\n",
       "      <th>3</th>\n",
       "      <td>34580</td>\n",
       "      <td>paid off</td>\n",
       "      <td>major_purchase</td>\n",
       "      <td>21.11</td>\n",
       "      <td>0.40</td>\n",
       "      <td>2.33482</td>\n",
       "      <td>0.506254</td>\n",
       "    </tr>\n",
       "    <tr>\n",
       "      <th>4</th>\n",
       "      <td>14424</td>\n",
       "      <td>default</td>\n",
       "      <td>debt_consolidation</td>\n",
       "      <td>16.46</td>\n",
       "      <td>0.45</td>\n",
       "      <td>12.10320</td>\n",
       "      <td>0.609952</td>\n",
       "    </tr>\n",
       "  </tbody>\n",
       "</table>\n",
       "</div>"
      ],
      "text/plain": [
       "   Unnamed: 0   outcome            purpose_    dti  borrower_score  \\\n",
       "0       32109  paid off  debt_consolidation  21.23            0.40   \n",
       "1       16982   default         credit_card  15.49            0.40   \n",
       "2       25335  paid off  debt_consolidation  27.30            0.70   \n",
       "3       34580  paid off      major_purchase  21.11            0.40   \n",
       "4       14424   default  debt_consolidation  16.46            0.45   \n",
       "\n",
       "   payment_inc_ratio   default  \n",
       "0            5.11135  0.553544  \n",
       "1            5.43165  0.558953  \n",
       "2            9.23003  0.272696  \n",
       "3            2.33482  0.506254  \n",
       "4           12.10320  0.609952  "
      ]
     },
     "execution_count": 17,
     "metadata": {},
     "output_type": "execute_result"
    }
   ],
   "source": [
    "lda_df = pd.concat([loan3000, pred['default']], axis=1)\n",
    "lda_df.head()"
   ]
  },
  {
   "cell_type": "code",
   "execution_count": 22,
   "id": "28efc971-f304-40d0-8a40-ca1415fdb595",
   "metadata": {},
   "outputs": [
    {
     "data": {
      "text/plain": [
       "[<matplotlib.lines.Line2D at 0x1693da100>]"
      ]
     },
     "execution_count": 22,
     "metadata": {},
     "output_type": "execute_result"
    },
    {
     "data": {
      "image/png": "[encoded data removed]",
      "text/plain": [
       "<Figure size 400x400 with 1 Axes>"
      ]
     },
     "metadata": {},
     "output_type": "display_data"
    }
   ],
   "source": [
    "fig, ax = plt.subplots(figsize=(4, 4))\n",
    "g = sns.scatterplot(x='borrower_score', y='payment_inc_ratio', hue='default', data=lda_df,\n",
    "                    palette=sns.diverging_palette(240, 10, n=9, as_cmap=True), ax=ax, legend=False)\n",
    "# 축 스케일링\n",
    "ax.set_ylim(0, 20)\n",
    "ax.set_xlim(0.15, 0.8)\n",
    "\n",
    "# 추가 직선 얹기 \n",
    "ax.plot((x_0, x_20), (0, 20), linewidth=3)\n",
    "ax.plot(*loan_lda.means_.transpose())"
   ]
  },
  {
   "cell_type": "markdown",
   "id": "45a63399-35e7-449b-ab3d-f61f95a26de2",
   "metadata": {
    "jp-MarkdownHeadingCollapsed": true
   },
   "source": [
    "###### check last graph"
   ]
  },
  {
   "cell_type": "code",
   "execution_count": 25,
   "id": "df22d98a-9efc-4ef7-a66a-31ca9709d743",
   "metadata": {},
   "outputs": [
    {
     "data": {
      "text/plain": [
       "[array([0.46280277, 0.53906752]), array([8.86181347, 7.4651989 ])]"
      ]
     },
     "execution_count": 25,
     "metadata": {},
     "output_type": "execute_result"
    }
   ],
   "source": [
    "[*loan_lda.means_.transpose()]"
   ]
  },
  {
   "cell_type": "code",
   "execution_count": 28,
   "id": "db1afe4b-0342-402d-832a-d0526df3938c",
   "metadata": {},
   "outputs": [
    {
     "data": {
      "text/plain": [
       "[<matplotlib.lines.Line2D at 0x1695a12e0>]"
      ]
     },
     "execution_count": 28,
     "metadata": {},
     "output_type": "execute_result"
    },
    {
     "data": {
      "image/png": "[encoded data removed]",
      "text/plain": [
       "<Figure size 400x400 with 1 Axes>"
      ]
     },
     "metadata": {},
     "output_type": "display_data"
    }
   ],
   "source": [
    "fig, ax = plt.subplots(figsize=(4, 4))\n",
    "\n",
    "ax.plot(*loan_lda.means_.transpose())"
   ]
  },
  {
   "cell_type": "markdown",
   "id": "0bf9ae78-4085-4ce4-b1d4-9dc9f870e23c",
   "metadata": {},
   "source": [
    "###### done"
   ]
  },
  {
   "cell_type": "markdown",
   "id": "c262fff0-27d8-4caa-8725-6df0b3445e0a",
   "metadata": {
    "jp-MarkdownHeadingCollapsed": true
   },
   "source": [
    "### 5.3 로지스틱 회귀"
   ]
  },
  {
   "cell_type": "code",
   "execution_count": 12,
   "id": "0ff8c9a3-f2cf-4101-a0de-ded5c7dea1ac",
   "metadata": {},
   "outputs": [],
   "source": [
    "# 데이터 불러오기\n",
    "LOAN_DATA_CSV = ''\n",
    "loan_data = pd.read_csv(LOAN_DATA_CSV)\n",
    "\n",
    "# convert to categorical\n",
    "loan_data.outcome = loan_data.outcome.astype('category')\n",
    "loan_data.outcome.cat.reorder_categories(['paid off', 'default'])\n",
    "loan_data.purpose_ = loan_data.purpose_.astype('category')\n",
    "loan_data.home_ = loan_data.home_.astype('category')\n",
    "loan_data.emp_len_ = loan_data.emp_len_.astype('category')"
   ]
  },
  {
   "cell_type": "code",
   "execution_count": 13,
   "id": "581aeb35-730e-4bd0-a066-1c847c66a3b6",
   "metadata": {},
   "outputs": [],
   "source": [
    "# 범주형 피처 -> 더미 변수로 변환 \n",
    "predictors = ['purpose_', 'home_', 'emp_len_', 'borrower_score']\n",
    "outcome = 'outcome'\n",
    "X = pd.get_dummies(loan_data[predictors], prefix='', prefix_sep='')\n",
    "y = loan_data[outcome]"
   ]
  },
  {
   "cell_type": "code",
   "execution_count": 14,
   "id": "bb531112-3075-4e93-9f80-50dc766fc474",
   "metadata": {},
   "outputs": [],
   "source": [
    "from sklearn.linear_model import LogisticRegression"
   ]
  },
  {
   "cell_type": "code",
   "execution_count": 15,
   "id": "b37a8843-9bbf-473c-a01d-2084ce559e0e",
   "metadata": {},
   "outputs": [
    {
     "data": {
      "text/html": [
       "<style>#sk-container-id-2 {color: black;background-color: white;}#sk-container-id-2 pre{padding: 0;}#sk-container-id-2 div.sk-toggleable {background-color: white;}#sk-container-id-2 label.sk-toggleable__label {cursor: pointer;display: block;width: 100%;margin-bottom: 0;padding: 0.3em;box-sizing: border-box;text-align: center;}#sk-container-id-2 label.sk-toggleable__label-arrow:before {content: \"▸\";float: left;margin-right: 0.25em;color: #696969;}#sk-container-id-2 label.sk-toggleable__label-arrow:hover:before {color: black;}#sk-container-id-2 div.sk-estimator:hover label.sk-toggleable__label-arrow:before {color: black;}#sk-container-id-2 div.sk-toggleable__content {max-height: 0;max-width: 0;overflow: hidden;text-align: left;background-color: #f0f8ff;}#sk-container-id-2 div.sk-toggleable__content pre {margin: 0.2em;color: black;border-radius: 0.25em;background-color: #f0f8ff;}#sk-container-id-2 input.sk-toggleable__control:checked~div.sk-toggleable__content {max-height: 200px;max-width: 100%;overflow: auto;}#sk-container-id-2 input.sk-toggleable__control:checked~label.sk-toggleable__label-arrow:before {content: \"▾\";}#sk-container-id-2 div.sk-estimator input.sk-toggleable__control:checked~label.sk-toggleable__label {background-color: #d4ebff;}#sk-container-id-2 div.sk-label input.sk-toggleable__control:checked~label.sk-toggleable__label {background-color: #d4ebff;}#sk-container-id-2 input.sk-hidden--visually {border: 0;clip: rect(1px 1px 1px 1px);clip: rect(1px, 1px, 1px, 1px);height: 1px;margin: -1px;overflow: hidden;padding: 0;position: absolute;width: 1px;}#sk-container-id-2 div.sk-estimator {font-family: monospace;background-color: #f0f8ff;border: 1px dotted black;border-radius: 0.25em;box-sizing: border-box;margin-bottom: 0.5em;}#sk-container-id-2 div.sk-estimator:hover {background-color: #d4ebff;}#sk-container-id-2 div.sk-parallel-item::after {content: \"\";width: 100%;border-bottom: 1px solid gray;flex-grow: 1;}#sk-container-id-2 div.sk-label:hover label.sk-toggleable__label {background-color: #d4ebff;}#sk-container-id-2 div.sk-serial::before {content: \"\";position: absolute;border-left: 1px solid gray;box-sizing: border-box;top: 0;bottom: 0;left: 50%;z-index: 0;}#sk-container-id-2 div.sk-serial {display: flex;flex-direction: column;align-items: center;background-color: white;padding-right: 0.2em;padding-left: 0.2em;position: relative;}#sk-container-id-2 div.sk-item {position: relative;z-index: 1;}#sk-container-id-2 div.sk-parallel {display: flex;align-items: stretch;justify-content: center;background-color: white;position: relative;}#sk-container-id-2 div.sk-item::before, #sk-container-id-2 div.sk-parallel-item::before {content: \"\";position: absolute;border-left: 1px solid gray;box-sizing: border-box;top: 0;bottom: 0;left: 50%;z-index: -1;}#sk-container-id-2 div.sk-parallel-item {display: flex;flex-direction: column;z-index: 1;position: relative;background-color: white;}#sk-container-id-2 div.sk-parallel-item:first-child::after {align-self: flex-end;width: 50%;}#sk-container-id-2 div.sk-parallel-item:last-child::after {align-self: flex-start;width: 50%;}#sk-container-id-2 div.sk-parallel-item:only-child::after {width: 0;}#sk-container-id-2 div.sk-dashed-wrapped {border: 1px dashed gray;margin: 0 0.4em 0.5em 0.4em;box-sizing: border-box;padding-bottom: 0.4em;background-color: white;}#sk-container-id-2 div.sk-label label {font-family: monospace;font-weight: bold;display: inline-block;line-height: 1.2em;}#sk-container-id-2 div.sk-label-container {text-align: center;}#sk-container-id-2 div.sk-container {/* jupyter's `normalize.less` sets `[hidden] { display: none; }` but bootstrap.min.css set `[hidden] { display: none !important; }` so we also need the `!important` here to be able to override the default hidden behavior on the sphinx rendered scikit-learn.org. See: https://github.com/scikit-learn/scikit-learn/issues/21755 */display: inline-block !important;position: relative;}#sk-container-id-2 div.sk-text-repr-fallback {display: none;}</style><div id=\"sk-container-id-2\" class=\"sk-top-container\"><div class=\"sk-text-repr-fallback\"><pre>LogisticRegression(C=1e+42, solver=&#x27;liblinear&#x27;)</pre><b>In a Jupyter environment, please rerun this cell to show the HTML representation or trust the notebook. <br />On GitHub, the HTML representation is unable to render, please try loading this page with nbviewer.org.</b></div><div class=\"sk-container\" hidden><div class=\"sk-item\"><div class=\"sk-estimator sk-toggleable\"><input class=\"sk-toggleable__control sk-hidden--visually\" id=\"sk-estimator-id-2\" type=\"checkbox\" checked><label for=\"sk-estimator-id-2\" class=\"sk-toggleable__label sk-toggleable__label-arrow\">LogisticRegression</label><div class=\"sk-toggleable__content\"><pre>LogisticRegression(C=1e+42, solver=&#x27;liblinear&#x27;)</pre></div></div></div></div></div>"
      ],
      "text/plain": [
       "LogisticRegression(C=1e+42, solver='liblinear')"
      ]
     },
     "execution_count": 15,
     "metadata": {},
     "output_type": "execute_result"
    }
   ],
   "source": [
    "logit_reg = LogisticRegression(penalty='l2', C=1e42, solver='liblinear')\n",
    "logit_reg.fit(X, y) # 계수 부호가 R이랑 반대로 나옴-클래스 요인(0,1)이 R이랑 반대라서 "
   ]
  },
  {
   "cell_type": "code",
   "execution_count": 16,
   "id": "ddf1d31d-a623-44ec-8fbb-fc88f73f322b",
   "metadata": {},
   "outputs": [
    {
     "data": {
      "text/html": [
       "<div>\n",
       "<style scoped>\n",
       "    .dataframe tbody tr th:only-of-type {\n",
       "        vertical-align: middle;\n",
       "    }\n",
       "\n",
       "    .dataframe tbody tr th {\n",
       "        vertical-align: top;\n",
       "    }\n",
       "\n",
       "    .dataframe thead th {\n",
       "        text-align: right;\n",
       "    }\n",
       "</style>\n",
       "<table border=\"1\" class=\"dataframe\">\n",
       "  <thead>\n",
       "    <tr style=\"text-align: right;\">\n",
       "      <th></th>\n",
       "      <th>default</th>\n",
       "      <th>paid off</th>\n",
       "    </tr>\n",
       "  </thead>\n",
       "  <tbody>\n",
       "    <tr>\n",
       "      <th>0</th>\n",
       "      <td>-1.204133</td>\n",
       "      <td>-0.356606</td>\n",
       "    </tr>\n",
       "    <tr>\n",
       "      <th>1</th>\n",
       "      <td>-0.959035</td>\n",
       "      <td>-0.483312</td>\n",
       "    </tr>\n",
       "    <tr>\n",
       "      <th>2</th>\n",
       "      <td>-0.809458</td>\n",
       "      <td>-0.588966</td>\n",
       "    </tr>\n",
       "    <tr>\n",
       "      <th>3</th>\n",
       "      <td>-0.649149</td>\n",
       "      <td>-0.739171</td>\n",
       "    </tr>\n",
       "    <tr>\n",
       "      <th>4</th>\n",
       "      <td>-0.685617</td>\n",
       "      <td>-0.700735</td>\n",
       "    </tr>\n",
       "    <tr>\n",
       "      <th>...</th>\n",
       "      <td>...</td>\n",
       "      <td>...</td>\n",
       "    </tr>\n",
       "    <tr>\n",
       "      <th>45337</th>\n",
       "      <td>-0.464009</td>\n",
       "      <td>-0.990900</td>\n",
       "    </tr>\n",
       "    <tr>\n",
       "      <th>45338</th>\n",
       "      <td>-0.675295</td>\n",
       "      <td>-0.711323</td>\n",
       "    </tr>\n",
       "    <tr>\n",
       "      <th>45339</th>\n",
       "      <td>-0.889431</td>\n",
       "      <td>-0.529141</td>\n",
       "    </tr>\n",
       "    <tr>\n",
       "      <th>45340</th>\n",
       "      <td>-1.192948</td>\n",
       "      <td>-0.361437</td>\n",
       "    </tr>\n",
       "    <tr>\n",
       "      <th>45341</th>\n",
       "      <td>-0.757428</td>\n",
       "      <td>-0.632750</td>\n",
       "    </tr>\n",
       "  </tbody>\n",
       "</table>\n",
       "<p>45342 rows × 2 columns</p>\n",
       "</div>"
      ],
      "text/plain": [
       "        default  paid off\n",
       "0     -1.204133 -0.356606\n",
       "1     -0.959035 -0.483312\n",
       "2     -0.809458 -0.588966\n",
       "3     -0.649149 -0.739171\n",
       "4     -0.685617 -0.700735\n",
       "...         ...       ...\n",
       "45337 -0.464009 -0.990900\n",
       "45338 -0.675295 -0.711323\n",
       "45339 -0.889431 -0.529141\n",
       "45340 -1.192948 -0.361437\n",
       "45341 -0.757428 -0.632750\n",
       "\n",
       "[45342 rows x 2 columns]"
      ]
     },
     "execution_count": 16,
     "metadata": {},
     "output_type": "execute_result"
    }
   ],
   "source": [
    "pd.DataFrame(logit_reg.predict_log_proba(X), columns=loan_data[outcome].cat.categories)"
   ]
  },
  {
   "cell_type": "code",
   "execution_count": 17,
   "id": "77f8c4ea-a2dc-4a6c-8ed6-189c1e1a45a2",
   "metadata": {},
   "outputs": [
    {
     "data": {
      "text/html": [
       "<div>\n",
       "<style scoped>\n",
       "    .dataframe tbody tr th:only-of-type {\n",
       "        vertical-align: middle;\n",
       "    }\n",
       "\n",
       "    .dataframe tbody tr th {\n",
       "        vertical-align: top;\n",
       "    }\n",
       "\n",
       "    .dataframe thead th {\n",
       "        text-align: right;\n",
       "    }\n",
       "</style>\n",
       "<table border=\"1\" class=\"dataframe\">\n",
       "  <thead>\n",
       "    <tr style=\"text-align: right;\">\n",
       "      <th></th>\n",
       "      <th>default</th>\n",
       "      <th>paid off</th>\n",
       "    </tr>\n",
       "  </thead>\n",
       "  <tbody>\n",
       "    <tr>\n",
       "      <th>count</th>\n",
       "      <td>45342.000000</td>\n",
       "      <td>45342.000000</td>\n",
       "    </tr>\n",
       "    <tr>\n",
       "      <th>mean</th>\n",
       "      <td>-0.744143</td>\n",
       "      <td>-0.745512</td>\n",
       "    </tr>\n",
       "    <tr>\n",
       "      <th>std</th>\n",
       "      <td>0.332622</td>\n",
       "      <td>0.339960</td>\n",
       "    </tr>\n",
       "    <tr>\n",
       "      <th>min</th>\n",
       "      <td>-2.433844</td>\n",
       "      <td>-2.952425</td>\n",
       "    </tr>\n",
       "    <tr>\n",
       "      <th>25%</th>\n",
       "      <td>-0.922355</td>\n",
       "      <td>-0.964934</td>\n",
       "    </tr>\n",
       "    <tr>\n",
       "      <th>50%</th>\n",
       "      <td>-0.685617</td>\n",
       "      <td>-0.700735</td>\n",
       "    </tr>\n",
       "    <tr>\n",
       "      <th>75%</th>\n",
       "      <td>-0.479663</td>\n",
       "      <td>-0.506803</td>\n",
       "    </tr>\n",
       "    <tr>\n",
       "      <th>max</th>\n",
       "      <td>-0.053625</td>\n",
       "      <td>-0.091785</td>\n",
       "    </tr>\n",
       "  </tbody>\n",
       "</table>\n",
       "</div>"
      ],
      "text/plain": [
       "            default      paid off\n",
       "count  45342.000000  45342.000000\n",
       "mean      -0.744143     -0.745512\n",
       "std        0.332622      0.339960\n",
       "min       -2.433844     -2.952425\n",
       "25%       -0.922355     -0.964934\n",
       "50%       -0.685617     -0.700735\n",
       "75%       -0.479663     -0.506803\n",
       "max       -0.053625     -0.091785"
      ]
     },
     "execution_count": 17,
     "metadata": {},
     "output_type": "execute_result"
    }
   ],
   "source": [
    "# logistic model로부터 얻은 예측값(로그 확률) -> 분포 특성 \n",
    "pred = pd.DataFrame(logit_reg.predict_log_proba(X), columns=loan_data[outcome].cat.categories)\n",
    "pred.describe()"
   ]
  },
  {
   "cell_type": "code",
   "execution_count": 18,
   "id": "d7b0f3c1-917c-4eab-8da1-dceb55b06c73",
   "metadata": {},
   "outputs": [
    {
     "data": {
      "text/html": [
       "<div>\n",
       "<style scoped>\n",
       "    .dataframe tbody tr th:only-of-type {\n",
       "        vertical-align: middle;\n",
       "    }\n",
       "\n",
       "    .dataframe tbody tr th {\n",
       "        vertical-align: top;\n",
       "    }\n",
       "\n",
       "    .dataframe thead th {\n",
       "        text-align: right;\n",
       "    }\n",
       "</style>\n",
       "<table border=\"1\" class=\"dataframe\">\n",
       "  <thead>\n",
       "    <tr style=\"text-align: right;\">\n",
       "      <th></th>\n",
       "      <th>default</th>\n",
       "      <th>paid off</th>\n",
       "    </tr>\n",
       "  </thead>\n",
       "  <tbody>\n",
       "    <tr>\n",
       "      <th>count</th>\n",
       "      <td>45342.000000</td>\n",
       "      <td>45342.000000</td>\n",
       "    </tr>\n",
       "    <tr>\n",
       "      <th>mean</th>\n",
       "      <td>0.500000</td>\n",
       "      <td>0.500000</td>\n",
       "    </tr>\n",
       "    <tr>\n",
       "      <th>std</th>\n",
       "      <td>0.150466</td>\n",
       "      <td>0.150466</td>\n",
       "    </tr>\n",
       "    <tr>\n",
       "      <th>min</th>\n",
       "      <td>0.087699</td>\n",
       "      <td>0.052213</td>\n",
       "    </tr>\n",
       "    <tr>\n",
       "      <th>25%</th>\n",
       "      <td>0.397582</td>\n",
       "      <td>0.381008</td>\n",
       "    </tr>\n",
       "    <tr>\n",
       "      <th>50%</th>\n",
       "      <td>0.503779</td>\n",
       "      <td>0.496221</td>\n",
       "    </tr>\n",
       "    <tr>\n",
       "      <th>75%</th>\n",
       "      <td>0.618992</td>\n",
       "      <td>0.602418</td>\n",
       "    </tr>\n",
       "    <tr>\n",
       "      <th>max</th>\n",
       "      <td>0.947787</td>\n",
       "      <td>0.912301</td>\n",
       "    </tr>\n",
       "  </tbody>\n",
       "</table>\n",
       "</div>"
      ],
      "text/plain": [
       "            default      paid off\n",
       "count  45342.000000  45342.000000\n",
       "mean       0.500000      0.500000\n",
       "std        0.150466      0.150466\n",
       "min        0.087699      0.052213\n",
       "25%        0.397582      0.381008\n",
       "50%        0.503779      0.496221\n",
       "75%        0.618992      0.602418\n",
       "max        0.947787      0.912301"
      ]
     },
     "execution_count": 18,
     "metadata": {},
     "output_type": "execute_result"
    }
   ],
   "source": [
    "# 로그 오즈가 아닌 확률값을 얻는 method는 predict_proba\n",
    "pred = pd.DataFrame(logit_reg.predict_proba(X), columns=loan_data[outcome].cat.categories)\n",
    "pred.describe()"
   ]
  },
  {
   "cell_type": "code",
   "execution_count": 19,
   "id": "37e1f9d9-24b3-429a-b200-fe82e0667529",
   "metadata": {},
   "outputs": [
    {
     "data": {
      "text/html": [
       "<table class=\"simpletable\">\n",
       "<caption>Generalized Linear Model Regression Results</caption>\n",
       "<tr>\n",
       "  <th>Dep. Variable:</th>           <td>y</td>        <th>  No. Observations:  </th>  <td> 45342</td> \n",
       "</tr>\n",
       "<tr>\n",
       "  <th>Model:</th>                  <td>GLM</td>       <th>  Df Residuals:      </th>  <td> 45331</td> \n",
       "</tr>\n",
       "<tr>\n",
       "  <th>Model Family:</th>        <td>Binomial</td>     <th>  Df Model:          </th>  <td>    10</td> \n",
       "</tr>\n",
       "<tr>\n",
       "  <th>Link Function:</th>         <td>Logit</td>      <th>  Scale:             </th> <td>  1.0000</td>\n",
       "</tr>\n",
       "<tr>\n",
       "  <th>Method:</th>                <td>IRLS</td>       <th>  Log-Likelihood:    </th> <td> -29291.</td>\n",
       "</tr>\n",
       "<tr>\n",
       "  <th>Date:</th>            <td>Fri, 26 Jul 2024</td> <th>  Deviance:          </th> <td>  58583.</td>\n",
       "</tr>\n",
       "<tr>\n",
       "  <th>Time:</th>                <td>17:02:58</td>     <th>  Pearson chi2:      </th> <td>4.53e+04</td>\n",
       "</tr>\n",
       "<tr>\n",
       "  <th>No. Iterations:</th>         <td>100</td>       <th>  Pseudo R-squ. (CS):</th>  <td>0.08996</td>\n",
       "</tr>\n",
       "<tr>\n",
       "  <th>Covariance Type:</th>     <td>nonrobust</td>    <th>                     </th>     <td> </td>   \n",
       "</tr>\n",
       "</table>\n",
       "<table class=\"simpletable\">\n",
       "<tr>\n",
       "           <td></td>             <th>coef</th>     <th>std err</th>      <th>z</th>      <th>P>|z|</th>  <th>[0.025</th>    <th>0.975]</th>  \n",
       "</tr>\n",
       "<tr>\n",
       "  <th>borrower_score</th>     <td>   -4.7050</td> <td>    0.083</td> <td>  -56.463</td> <td> 0.000</td> <td>   -4.868</td> <td>   -4.542</td>\n",
       "</tr>\n",
       "<tr>\n",
       "  <th>credit_card</th>        <td>  1.46e+10</td> <td> 1.73e+11</td> <td>    0.084</td> <td> 0.933</td> <td>-3.25e+11</td> <td> 3.54e+11</td>\n",
       "</tr>\n",
       "<tr>\n",
       "  <th>debt_consolidation</th> <td>  1.46e+10</td> <td> 1.73e+11</td> <td>    0.084</td> <td> 0.933</td> <td>-3.25e+11</td> <td> 3.54e+11</td>\n",
       "</tr>\n",
       "<tr>\n",
       "  <th>home_improvement</th>   <td>  1.46e+10</td> <td> 1.73e+11</td> <td>    0.084</td> <td> 0.933</td> <td>-3.25e+11</td> <td> 3.54e+11</td>\n",
       "</tr>\n",
       "<tr>\n",
       "  <th>major_purchase</th>     <td>  1.46e+10</td> <td> 1.73e+11</td> <td>    0.084</td> <td> 0.933</td> <td>-3.25e+11</td> <td> 3.54e+11</td>\n",
       "</tr>\n",
       "<tr>\n",
       "  <th>medical</th>            <td>  1.46e+10</td> <td> 1.73e+11</td> <td>    0.084</td> <td> 0.933</td> <td>-3.25e+11</td> <td> 3.54e+11</td>\n",
       "</tr>\n",
       "<tr>\n",
       "  <th>other</th>              <td>  1.46e+10</td> <td> 1.73e+11</td> <td>    0.084</td> <td> 0.933</td> <td>-3.25e+11</td> <td> 3.54e+11</td>\n",
       "</tr>\n",
       "<tr>\n",
       "  <th>small_business</th>     <td>  1.46e+10</td> <td> 1.73e+11</td> <td>    0.084</td> <td> 0.933</td> <td>-3.25e+11</td> <td> 3.54e+11</td>\n",
       "</tr>\n",
       "<tr>\n",
       "  <th>MORTGAGE</th>           <td> 4.353e+10</td> <td> 2.05e+11</td> <td>    0.212</td> <td> 0.832</td> <td>-3.58e+11</td> <td> 4.45e+11</td>\n",
       "</tr>\n",
       "<tr>\n",
       "  <th>OWN</th>                <td> 4.353e+10</td> <td> 2.05e+11</td> <td>    0.212</td> <td> 0.832</td> <td>-3.58e+11</td> <td> 4.45e+11</td>\n",
       "</tr>\n",
       "<tr>\n",
       "  <th>RENT</th>               <td> 4.353e+10</td> <td> 2.05e+11</td> <td>    0.212</td> <td> 0.832</td> <td>-3.58e+11</td> <td> 4.45e+11</td>\n",
       "</tr>\n",
       "<tr>\n",
       "  <th> < 1 Year</th>          <td>-3.249e+11</td> <td> 4.89e+11</td> <td>   -0.664</td> <td> 0.507</td> <td>-1.28e+12</td> <td> 6.34e+11</td>\n",
       "</tr>\n",
       "<tr>\n",
       "  <th> > 1 Year</th>          <td>-3.249e+11</td> <td> 4.89e+11</td> <td>   -0.664</td> <td> 0.507</td> <td>-1.28e+12</td> <td> 6.34e+11</td>\n",
       "</tr>\n",
       "<tr>\n",
       "  <th>const</th>              <td> 2.668e+11</td> <td> 5.58e+11</td> <td>    0.478</td> <td> 0.633</td> <td>-8.27e+11</td> <td> 1.36e+12</td>\n",
       "</tr>\n",
       "</table>"
      ],
      "text/latex": [
       "\\begin{center}\n",
       "\\begin{tabular}{lclc}\n",
       "\\toprule\n",
       "\\textbf{Dep. Variable:}      &        y         & \\textbf{  No. Observations:  } &    45342    \\\\\n",
       "\\textbf{Model:}              &       GLM        & \\textbf{  Df Residuals:      } &    45331    \\\\\n",
       "\\textbf{Model Family:}       &     Binomial     & \\textbf{  Df Model:          } &       10    \\\\\n",
       "\\textbf{Link Function:}      &      Logit       & \\textbf{  Scale:             } &    1.0000   \\\\\n",
       "\\textbf{Method:}             &       IRLS       & \\textbf{  Log-Likelihood:    } &   -29291.   \\\\\n",
       "\\textbf{Date:}               & Fri, 26 Jul 2024 & \\textbf{  Deviance:          } &    58583.   \\\\\n",
       "\\textbf{Time:}               &     17:02:58     & \\textbf{  Pearson chi2:      } &  4.53e+04   \\\\\n",
       "\\textbf{No. Iterations:}     &       100        & \\textbf{  Pseudo R-squ. (CS):} &  0.08996    \\\\\n",
       "\\textbf{Covariance Type:}    &    nonrobust     & \\textbf{                     } &             \\\\\n",
       "\\bottomrule\n",
       "\\end{tabular}\n",
       "\\begin{tabular}{lcccccc}\n",
       "                             & \\textbf{coef} & \\textbf{std err} & \\textbf{z} & \\textbf{P$> |$z$|$} & \\textbf{[0.025} & \\textbf{0.975]}  \\\\\n",
       "\\midrule\n",
       "\\textbf{borrower\\_score}     &      -4.7050  &        0.083     &   -56.463  &         0.000        &       -4.868    &       -4.542     \\\\\n",
       "\\textbf{credit\\_card}        &     1.46e+10  &     1.73e+11     &     0.084  &         0.933        &    -3.25e+11    &     3.54e+11     \\\\\n",
       "\\textbf{debt\\_consolidation} &     1.46e+10  &     1.73e+11     &     0.084  &         0.933        &    -3.25e+11    &     3.54e+11     \\\\\n",
       "\\textbf{home\\_improvement}   &     1.46e+10  &     1.73e+11     &     0.084  &         0.933        &    -3.25e+11    &     3.54e+11     \\\\\n",
       "\\textbf{major\\_purchase}     &     1.46e+10  &     1.73e+11     &     0.084  &         0.933        &    -3.25e+11    &     3.54e+11     \\\\\n",
       "\\textbf{medical}             &     1.46e+10  &     1.73e+11     &     0.084  &         0.933        &    -3.25e+11    &     3.54e+11     \\\\\n",
       "\\textbf{other}               &     1.46e+10  &     1.73e+11     &     0.084  &         0.933        &    -3.25e+11    &     3.54e+11     \\\\\n",
       "\\textbf{small\\_business}     &     1.46e+10  &     1.73e+11     &     0.084  &         0.933        &    -3.25e+11    &     3.54e+11     \\\\\n",
       "\\textbf{MORTGAGE}            &    4.353e+10  &     2.05e+11     &     0.212  &         0.832        &    -3.58e+11    &     4.45e+11     \\\\\n",
       "\\textbf{OWN}                 &    4.353e+10  &     2.05e+11     &     0.212  &         0.832        &    -3.58e+11    &     4.45e+11     \\\\\n",
       "\\textbf{RENT}                &    4.353e+10  &     2.05e+11     &     0.212  &         0.832        &    -3.58e+11    &     4.45e+11     \\\\\n",
       "\\textbf{ < 1 Year}           &   -3.249e+11  &     4.89e+11     &    -0.664  &         0.507        &    -1.28e+12    &     6.34e+11     \\\\\n",
       "\\textbf{ $>$ 1 Year}         &   -3.249e+11  &     4.89e+11     &    -0.664  &         0.507        &    -1.28e+12    &     6.34e+11     \\\\\n",
       "\\textbf{const}               &    2.668e+11  &     5.58e+11     &     0.478  &         0.633        &    -8.27e+11    &     1.36e+12     \\\\\n",
       "\\bottomrule\n",
       "\\end{tabular}\n",
       "%\\caption{Generalized Linear Model Regression Results}\n",
       "\\end{center}"
      ],
      "text/plain": [
       "<class 'statsmodels.iolib.summary.Summary'>\n",
       "\"\"\"\n",
       "                 Generalized Linear Model Regression Results                  \n",
       "==============================================================================\n",
       "Dep. Variable:                      y   No. Observations:                45342\n",
       "Model:                            GLM   Df Residuals:                    45331\n",
       "Model Family:                Binomial   Df Model:                           10\n",
       "Link Function:                  Logit   Scale:                          1.0000\n",
       "Method:                          IRLS   Log-Likelihood:                -29291.\n",
       "Date:                Fri, 26 Jul 2024   Deviance:                       58583.\n",
       "Time:                        17:02:58   Pearson chi2:                 4.53e+04\n",
       "No. Iterations:                   100   Pseudo R-squ. (CS):            0.08996\n",
       "Covariance Type:            nonrobust                                         \n",
       "======================================================================================\n",
       "                         coef    std err          z      P>|z|      [0.025      0.975]\n",
       "--------------------------------------------------------------------------------------\n",
       "borrower_score        -4.7050      0.083    -56.463      0.000      -4.868      -4.542\n",
       "credit_card          1.46e+10   1.73e+11      0.084      0.933   -3.25e+11    3.54e+11\n",
       "debt_consolidation   1.46e+10   1.73e+11      0.084      0.933   -3.25e+11    3.54e+11\n",
       "home_improvement     1.46e+10   1.73e+11      0.084      0.933   -3.25e+11    3.54e+11\n",
       "major_purchase       1.46e+10   1.73e+11      0.084      0.933   -3.25e+11    3.54e+11\n",
       "medical              1.46e+10   1.73e+11      0.084      0.933   -3.25e+11    3.54e+11\n",
       "other                1.46e+10   1.73e+11      0.084      0.933   -3.25e+11    3.54e+11\n",
       "small_business       1.46e+10   1.73e+11      0.084      0.933   -3.25e+11    3.54e+11\n",
       "MORTGAGE            4.353e+10   2.05e+11      0.212      0.832   -3.58e+11    4.45e+11\n",
       "OWN                 4.353e+10   2.05e+11      0.212      0.832   -3.58e+11    4.45e+11\n",
       "RENT                4.353e+10   2.05e+11      0.212      0.832   -3.58e+11    4.45e+11\n",
       " < 1 Year          -3.249e+11   4.89e+11     -0.664      0.507   -1.28e+12    6.34e+11\n",
       " > 1 Year          -3.249e+11   4.89e+11     -0.664      0.507   -1.28e+12    6.34e+11\n",
       "const               2.668e+11   5.58e+11      0.478      0.633   -8.27e+11    1.36e+12\n",
       "======================================================================================\n",
       "\"\"\""
      ]
     },
     "execution_count": 19,
     "metadata": {},
     "output_type": "execute_result"
    }
   ],
   "source": [
    "# 모델 평가\n",
    "import statsmodels.api as sm\n",
    "y_numbers = [1 if yi == 'default' else 0 for yi in y] \n",
    "logit_reg_sm = sm.GLM(y_numbers, X.assign(const=1), family=sm.families.Binomial())\n",
    "logit_result = logit_reg_sm.fit()\n",
    "logit_result.summary()"
   ]
  },
  {
   "cell_type": "code",
   "execution_count": 20,
   "id": "4f77fc77-9bc8-4437-8b36-8a7fcab692e4",
   "metadata": {},
   "outputs": [],
   "source": [
    "# 로지스틱 모델 확장\n",
    "import statsmodels.formula.api as smf\n",
    "formula = ('outcome ~ bs(payment_inc_ratio, df=4) + purpose_ +' + 'home_ + emp_len_ + bs(borrower_score, df=4)')"
   ]
  },
  {
   "cell_type": "code",
   "execution_count": 22,
   "id": "46db2121-6056-4bcb-ab96-d70f05ebedf6",
   "metadata": {},
   "outputs": [],
   "source": [
    "model = smf.glm(formula=formula, data=loan_data, family=sm.families.Binomial())\n",
    "results = model.fit()"
   ]
  },
  {
   "cell_type": "code",
   "execution_count": 24,
   "id": "2f2541bb-db51-4e7b-9a11-3322138722cd",
   "metadata": {},
   "outputs": [
    {
     "data": {
      "text/html": [
       "<table class=\"simpletable\">\n",
       "<caption>Generalized Linear Model Regression Results</caption>\n",
       "<tr>\n",
       "  <th>Dep. Variable:</th>   <td>['outcome[default]', 'outcome[paid off]']</td> <th>  No. Observations:  </th>  <td> 45342</td> \n",
       "</tr>\n",
       "<tr>\n",
       "  <th>Model:</th>                              <td>GLM</td>                    <th>  Df Residuals:      </th>  <td> 45324</td> \n",
       "</tr>\n",
       "<tr>\n",
       "  <th>Model Family:</th>                    <td>Binomial</td>                  <th>  Df Model:          </th>  <td>    17</td> \n",
       "</tr>\n",
       "<tr>\n",
       "  <th>Link Function:</th>                     <td>Logit</td>                   <th>  Scale:             </th> <td>  1.0000</td>\n",
       "</tr>\n",
       "<tr>\n",
       "  <th>Method:</th>                            <td>IRLS</td>                    <th>  Log-Likelihood:    </th> <td> -28744.</td>\n",
       "</tr>\n",
       "<tr>\n",
       "  <th>Date:</th>                        <td>Fri, 26 Jul 2024</td>              <th>  Deviance:          </th> <td>  57487.</td>\n",
       "</tr>\n",
       "<tr>\n",
       "  <th>Time:</th>                            <td>17:06:06</td>                  <th>  Pearson chi2:      </th> <td>4.54e+04</td>\n",
       "</tr>\n",
       "<tr>\n",
       "  <th>No. Iterations:</th>                      <td>5</td>                     <th>  Pseudo R-squ. (CS):</th>  <td>0.1117</td> \n",
       "</tr>\n",
       "<tr>\n",
       "  <th>Covariance Type:</th>                 <td>nonrobust</td>                 <th>                     </th>     <td> </td>   \n",
       "</tr>\n",
       "</table>\n",
       "<table class=\"simpletable\">\n",
       "<tr>\n",
       "                 <td></td>                   <th>coef</th>     <th>std err</th>      <th>z</th>      <th>P>|z|</th>  <th>[0.025</th>    <th>0.975]</th>  \n",
       "</tr>\n",
       "<tr>\n",
       "  <th>Intercept</th>                      <td>    1.8382</td> <td>    0.380</td> <td>    4.836</td> <td> 0.000</td> <td>    1.093</td> <td>    2.583</td>\n",
       "</tr>\n",
       "<tr>\n",
       "  <th>purpose_[T.debt_consolidation]</th> <td>    0.2491</td> <td>    0.028</td> <td>    9.020</td> <td> 0.000</td> <td>    0.195</td> <td>    0.303</td>\n",
       "</tr>\n",
       "<tr>\n",
       "  <th>purpose_[T.home_improvement]</th>   <td>    0.4138</td> <td>    0.047</td> <td>    8.848</td> <td> 0.000</td> <td>    0.322</td> <td>    0.505</td>\n",
       "</tr>\n",
       "<tr>\n",
       "  <th>purpose_[T.major_purchase]</th>     <td>    0.2401</td> <td>    0.054</td> <td>    4.450</td> <td> 0.000</td> <td>    0.134</td> <td>    0.346</td>\n",
       "</tr>\n",
       "<tr>\n",
       "  <th>purpose_[T.medical]</th>            <td>    0.5183</td> <td>    0.087</td> <td>    5.953</td> <td> 0.000</td> <td>    0.348</td> <td>    0.689</td>\n",
       "</tr>\n",
       "<tr>\n",
       "  <th>purpose_[T.other]</th>              <td>    0.6295</td> <td>    0.040</td> <td>   15.812</td> <td> 0.000</td> <td>    0.552</td> <td>    0.708</td>\n",
       "</tr>\n",
       "<tr>\n",
       "  <th>purpose_[T.small_business]</th>     <td>    1.2252</td> <td>    0.063</td> <td>   19.303</td> <td> 0.000</td> <td>    1.101</td> <td>    1.350</td>\n",
       "</tr>\n",
       "<tr>\n",
       "  <th>home_[T.OWN]</th>                   <td>    0.0484</td> <td>    0.038</td> <td>    1.273</td> <td> 0.203</td> <td>   -0.026</td> <td>    0.123</td>\n",
       "</tr>\n",
       "<tr>\n",
       "  <th>home_[T.RENT]</th>                  <td>    0.1581</td> <td>    0.021</td> <td>    7.456</td> <td> 0.000</td> <td>    0.117</td> <td>    0.200</td>\n",
       "</tr>\n",
       "<tr>\n",
       "  <th>emp_len_[T. > 1 Year]</th>          <td>   -0.3541</td> <td>    0.053</td> <td>   -6.729</td> <td> 0.000</td> <td>   -0.457</td> <td>   -0.251</td>\n",
       "</tr>\n",
       "<tr>\n",
       "  <th>bs(payment_inc_ratio, df=4)[0]</th> <td>    0.0049</td> <td>    0.121</td> <td>    0.041</td> <td> 0.967</td> <td>   -0.232</td> <td>    0.241</td>\n",
       "</tr>\n",
       "<tr>\n",
       "  <th>bs(payment_inc_ratio, df=4)[1]</th> <td>    1.6033</td> <td>    0.142</td> <td>   11.289</td> <td> 0.000</td> <td>    1.325</td> <td>    1.882</td>\n",
       "</tr>\n",
       "<tr>\n",
       "  <th>bs(payment_inc_ratio, df=4)[2]</th> <td>    1.9033</td> <td>    0.488</td> <td>    3.900</td> <td> 0.000</td> <td>    0.947</td> <td>    2.860</td>\n",
       "</tr>\n",
       "<tr>\n",
       "  <th>bs(payment_inc_ratio, df=4)[3]</th> <td>   -0.8521</td> <td>    1.929</td> <td>   -0.442</td> <td> 0.659</td> <td>   -4.633</td> <td>    2.929</td>\n",
       "</tr>\n",
       "<tr>\n",
       "  <th>bs(borrower_score, df=4)[0]</th>    <td>   -1.0045</td> <td>    0.476</td> <td>   -2.112</td> <td> 0.035</td> <td>   -1.937</td> <td>   -0.072</td>\n",
       "</tr>\n",
       "<tr>\n",
       "  <th>bs(borrower_score, df=4)[1]</th>    <td>   -2.6411</td> <td>    0.287</td> <td>   -9.209</td> <td> 0.000</td> <td>   -3.203</td> <td>   -2.079</td>\n",
       "</tr>\n",
       "<tr>\n",
       "  <th>bs(borrower_score, df=4)[2]</th>    <td>   -3.6984</td> <td>    0.473</td> <td>   -7.824</td> <td> 0.000</td> <td>   -4.625</td> <td>   -2.772</td>\n",
       "</tr>\n",
       "<tr>\n",
       "  <th>bs(borrower_score, df=4)[3]</th>    <td>   -5.8564</td> <td>    0.525</td> <td>  -11.160</td> <td> 0.000</td> <td>   -6.885</td> <td>   -4.828</td>\n",
       "</tr>\n",
       "</table>"
      ],
      "text/latex": [
       "\\begin{center}\n",
       "\\begin{tabular}{lclc}\n",
       "\\toprule\n",
       "\\textbf{Dep. Variable:}                   & ['outcome[default]', 'outcome[paid off]'] & \\textbf{  No. Observations:  } &    45342    \\\\\n",
       "\\textbf{Model:}                           &                    GLM                    & \\textbf{  Df Residuals:      } &    45324    \\\\\n",
       "\\textbf{Model Family:}                    &                  Binomial                 & \\textbf{  Df Model:          } &       17    \\\\\n",
       "\\textbf{Link Function:}                   &                   Logit                   & \\textbf{  Scale:             } &    1.0000   \\\\\n",
       "\\textbf{Method:}                          &                    IRLS                   & \\textbf{  Log-Likelihood:    } &   -28744.   \\\\\n",
       "\\textbf{Date:}                            &              Fri, 26 Jul 2024             & \\textbf{  Deviance:          } &    57487.   \\\\\n",
       "\\textbf{Time:}                            &                  17:06:06                 & \\textbf{  Pearson chi2:      } &  4.54e+04   \\\\\n",
       "\\textbf{No. Iterations:}                  &                     5                     & \\textbf{  Pseudo R-squ. (CS):} &   0.1117    \\\\\n",
       "\\textbf{Covariance Type:}                 &                 nonrobust                 & \\textbf{                     } &             \\\\\n",
       "\\bottomrule\n",
       "\\end{tabular}\n",
       "\\begin{tabular}{lcccccc}\n",
       "                                          & \\textbf{coef} & \\textbf{std err} & \\textbf{z} & \\textbf{P$> |$z$|$} & \\textbf{[0.025} & \\textbf{0.975]}  \\\\\n",
       "\\midrule\n",
       "\\textbf{Intercept}                        &       1.8382  &        0.380     &     4.836  &         0.000        &        1.093    &        2.583     \\\\\n",
       "\\textbf{purpose\\_[T.debt\\_consolidation]} &       0.2491  &        0.028     &     9.020  &         0.000        &        0.195    &        0.303     \\\\\n",
       "\\textbf{purpose\\_[T.home\\_improvement]}   &       0.4138  &        0.047     &     8.848  &         0.000        &        0.322    &        0.505     \\\\\n",
       "\\textbf{purpose\\_[T.major\\_purchase]}     &       0.2401  &        0.054     &     4.450  &         0.000        &        0.134    &        0.346     \\\\\n",
       "\\textbf{purpose\\_[T.medical]}             &       0.5183  &        0.087     &     5.953  &         0.000        &        0.348    &        0.689     \\\\\n",
       "\\textbf{purpose\\_[T.other]}               &       0.6295  &        0.040     &    15.812  &         0.000        &        0.552    &        0.708     \\\\\n",
       "\\textbf{purpose\\_[T.small\\_business]}     &       1.2252  &        0.063     &    19.303  &         0.000        &        1.101    &        1.350     \\\\\n",
       "\\textbf{home\\_[T.OWN]}                    &       0.0484  &        0.038     &     1.273  &         0.203        &       -0.026    &        0.123     \\\\\n",
       "\\textbf{home\\_[T.RENT]}                   &       0.1581  &        0.021     &     7.456  &         0.000        &        0.117    &        0.200     \\\\\n",
       "\\textbf{emp\\_len\\_[T. $>$ 1 Year]}        &      -0.3541  &        0.053     &    -6.729  &         0.000        &       -0.457    &       -0.251     \\\\\n",
       "\\textbf{bs(payment\\_inc\\_ratio, df=4)[0]} &       0.0049  &        0.121     &     0.041  &         0.967        &       -0.232    &        0.241     \\\\\n",
       "\\textbf{bs(payment\\_inc\\_ratio, df=4)[1]} &       1.6033  &        0.142     &    11.289  &         0.000        &        1.325    &        1.882     \\\\\n",
       "\\textbf{bs(payment\\_inc\\_ratio, df=4)[2]} &       1.9033  &        0.488     &     3.900  &         0.000        &        0.947    &        2.860     \\\\\n",
       "\\textbf{bs(payment\\_inc\\_ratio, df=4)[3]} &      -0.8521  &        1.929     &    -0.442  &         0.659        &       -4.633    &        2.929     \\\\\n",
       "\\textbf{bs(borrower\\_score, df=4)[0]}     &      -1.0045  &        0.476     &    -2.112  &         0.035        &       -1.937    &       -0.072     \\\\\n",
       "\\textbf{bs(borrower\\_score, df=4)[1]}     &      -2.6411  &        0.287     &    -9.209  &         0.000        &       -3.203    &       -2.079     \\\\\n",
       "\\textbf{bs(borrower\\_score, df=4)[2]}     &      -3.6984  &        0.473     &    -7.824  &         0.000        &       -4.625    &       -2.772     \\\\\n",
       "\\textbf{bs(borrower\\_score, df=4)[3]}     &      -5.8564  &        0.525     &   -11.160  &         0.000        &       -6.885    &       -4.828     \\\\\n",
       "\\bottomrule\n",
       "\\end{tabular}\n",
       "%\\caption{Generalized Linear Model Regression Results}\n",
       "\\end{center}"
      ],
      "text/plain": [
       "<class 'statsmodels.iolib.summary.Summary'>\n",
       "\"\"\"\n",
       "                             Generalized Linear Model Regression Results                             \n",
       "=====================================================================================================\n",
       "Dep. Variable:     ['outcome[default]', 'outcome[paid off]']   No. Observations:                45342\n",
       "Model:                                                   GLM   Df Residuals:                    45324\n",
       "Model Family:                                       Binomial   Df Model:                           17\n",
       "Link Function:                                         Logit   Scale:                          1.0000\n",
       "Method:                                                 IRLS   Log-Likelihood:                -28744.\n",
       "Date:                                       Fri, 26 Jul 2024   Deviance:                       57487.\n",
       "Time:                                               17:06:06   Pearson chi2:                 4.54e+04\n",
       "No. Iterations:                                            5   Pseudo R-squ. (CS):             0.1117\n",
       "Covariance Type:                                   nonrobust                                         \n",
       "==================================================================================================\n",
       "                                     coef    std err          z      P>|z|      [0.025      0.975]\n",
       "--------------------------------------------------------------------------------------------------\n",
       "Intercept                          1.8382      0.380      4.836      0.000       1.093       2.583\n",
       "purpose_[T.debt_consolidation]     0.2491      0.028      9.020      0.000       0.195       0.303\n",
       "purpose_[T.home_improvement]       0.4138      0.047      8.848      0.000       0.322       0.505\n",
       "purpose_[T.major_purchase]         0.2401      0.054      4.450      0.000       0.134       0.346\n",
       "purpose_[T.medical]                0.5183      0.087      5.953      0.000       0.348       0.689\n",
       "purpose_[T.other]                  0.6295      0.040     15.812      0.000       0.552       0.708\n",
       "purpose_[T.small_business]         1.2252      0.063     19.303      0.000       1.101       1.350\n",
       "home_[T.OWN]                       0.0484      0.038      1.273      0.203      -0.026       0.123\n",
       "home_[T.RENT]                      0.1581      0.021      7.456      0.000       0.117       0.200\n",
       "emp_len_[T. > 1 Year]             -0.3541      0.053     -6.729      0.000      -0.457      -0.251\n",
       "bs(payment_inc_ratio, df=4)[0]     0.0049      0.121      0.041      0.967      -0.232       0.241\n",
       "bs(payment_inc_ratio, df=4)[1]     1.6033      0.142     11.289      0.000       1.325       1.882\n",
       "bs(payment_inc_ratio, df=4)[2]     1.9033      0.488      3.900      0.000       0.947       2.860\n",
       "bs(payment_inc_ratio, df=4)[3]    -0.8521      1.929     -0.442      0.659      -4.633       2.929\n",
       "bs(borrower_score, df=4)[0]       -1.0045      0.476     -2.112      0.035      -1.937      -0.072\n",
       "bs(borrower_score, df=4)[1]       -2.6411      0.287     -9.209      0.000      -3.203      -2.079\n",
       "bs(borrower_score, df=4)[2]       -3.6984      0.473     -7.824      0.000      -4.625      -2.772\n",
       "bs(borrower_score, df=4)[3]       -5.8564      0.525    -11.160      0.000      -6.885      -4.828\n",
       "==================================================================================================\n",
       "\"\"\""
      ]
     },
     "execution_count": 24,
     "metadata": {},
     "output_type": "execute_result"
    }
   ],
   "source": [
    "results.summary()"
   ]
  },
  {
   "cell_type": "code",
   "execution_count": 25,
   "id": "a5e5cb80-8fd0-46f6-8ad3-19b19d462322",
   "metadata": {},
   "outputs": [],
   "source": [
    "# 편잔차 그림 그리기\n",
    "from statsmodels.genmod.generalized_linear_model import GLMResults\n",
    "\n",
    "def partialResidualPlot(model, df, outcome, feature, fig, ax):\n",
    "    y_actual = [0 if s == 'default' else 1 for s in df[outcome]]\n",
    "    y_pred = model.predict(df)\n",
    "    org_params = model.params.copy()\n",
    "    zero_params = model.params.copy()\n",
    "    \n",
    "    # set model parametes of other features to 0\n",
    "    # 특정 피처가 종속 변수에 미치는 기여도를 분리하여 부분 잔차를 계산\n",
    "    for i, name in enumerate(zero_params.index):\n",
    "        if feature in name:\n",
    "            continue\n",
    "        zero_params[i] = 0.0\n",
    "        \n",
    "    model.initialize(model.model, zero_params)\n",
    "    feature_prediction = model.predict(df)\n",
    "\n",
    "    # 예측된 확률 값을 로짓 값으로 변환\n",
    "    ypartial = -np.log(1/feature_prediction - 1)\n",
    "    ypartial = ypartial - np.mean(ypartial) # 왜 R이랑 구하는 방법이 다른지 모르겠음 \n",
    "    model.initialize(model.model, org_params)\n",
    "    results = pd.DataFrame({\n",
    "        'feature': df[feature],\n",
    "        'residual': -2 * (y_actual - y_pred),\n",
    "        'ypartial': ypartial/ 2,\n",
    "    })\n",
    "    results = results.sort_values(by=['feature'])\n",
    "\n",
    "    ax.scatter(results.feature, results.residual, marker=\".\", s=72./fig.dpi)\n",
    "    ax.plot(results.feature, results.ypartial, color='black')\n",
    "    ax.set_xlabel(feature)\n",
    "    ax.set_ylabel(f'Residual + {feature} contribution')\n",
    "    return ax"
   ]
  },
  {
   "cell_type": "code",
   "execution_count": 26,
   "id": "7b95f935-e503-4a6e-a061-382c1cb1c0eb",
   "metadata": {},
   "outputs": [
    {
     "data": {
      "image/png": "[encoded data removed]",
      "text/plain": [
       "<Figure size 500x500 with 1 Axes>"
      ]
     },
     "metadata": {},
     "output_type": "display_data"
    }
   ],
   "source": [
    "fig, ax = plt.subplots(figsize=(5, 5))\n",
    "partialResidualPlot(results, loan_data, 'outcome', 'payment_inc_ratio', fig, ax)\n",
    "ax.set_xlim(0, 25)\n",
    "ax.set_ylim(-2.5, 2.5)\n",
    "\n",
    "\n",
    "plt.tight_layout()\n",
    "plt.show()"
   ]
  },
  {
   "cell_type": "markdown",
   "id": "12ef5963-c456-4203-a7f9-16484392d36f",
   "metadata": {},
   "source": [
    "### 5.4 분류 모델 평가"
   ]
  },
  {
   "cell_type": "code",
   "execution_count": 2,
   "id": "7e17f4c2-546b-431f-a2eb-b17c98129ca0",
   "metadata": {},
   "outputs": [],
   "source": [
    "# 데이터 불러오기\n",
    "LOAN_DATA_CSV = ''\n",
    "loan_data = pd.read_csv(LOAN_DATA_CSV)\n",
    "\n",
    "# convert to categorical\n",
    "loan_data.outcome = loan_data.outcome.astype('category')\n",
    "loan_data.outcome.cat.reorder_categories(['paid off', 'default'])\n",
    "\n",
    "loan_data.purpose_ = loan_data.purpose_.astype('category')\n",
    "loan_data.home_ = loan_data.home_.astype('category')\n",
    "loan_data.emp_len_ = loan_data.emp_len_.astype('category')\n",
    "\n",
    "# 범주형 피처 -> 더미 변수로 변환 \n",
    "predictors = ['payment_inc_ratio', 'purpose_', 'home_', 'emp_len_', \n",
    "              'borrower_score']\n",
    "outcome = 'outcome'\n",
    "X = pd.get_dummies(loan_data[predictors], prefix='', prefix_sep='', \n",
    "                   drop_first=True, dtype=int)\n",
    "y = loan_data[outcome]"
   ]
  },
  {
   "cell_type": "code",
   "execution_count": 24,
   "id": "47aaa0f0-b033-44fb-872c-c1bf9fa8fe84",
   "metadata": {},
   "outputs": [
    {
     "data": {
      "text/plain": [
       "array(['default', 'paid off'], dtype=object)"
      ]
     },
     "execution_count": 24,
     "metadata": {},
     "output_type": "execute_result"
    }
   ],
   "source": [
    "np.unique(y)"
   ]
  },
  {
   "cell_type": "code",
   "execution_count": 3,
   "id": "29292330-2f42-43c7-ab0e-bdf5ef67ae58",
   "metadata": {},
   "outputs": [
    {
     "data": {
      "text/html": [
       "<style>#sk-container-id-1 {color: black;background-color: white;}#sk-container-id-1 pre{padding: 0;}#sk-container-id-1 div.sk-toggleable {background-color: white;}#sk-container-id-1 label.sk-toggleable__label {cursor: pointer;display: block;width: 100%;margin-bottom: 0;padding: 0.3em;box-sizing: border-box;text-align: center;}#sk-container-id-1 label.sk-toggleable__label-arrow:before {content: \"▸\";float: left;margin-right: 0.25em;color: #696969;}#sk-container-id-1 label.sk-toggleable__label-arrow:hover:before {color: black;}#sk-container-id-1 div.sk-estimator:hover label.sk-toggleable__label-arrow:before {color: black;}#sk-container-id-1 div.sk-toggleable__content {max-height: 0;max-width: 0;overflow: hidden;text-align: left;background-color: #f0f8ff;}#sk-container-id-1 div.sk-toggleable__content pre {margin: 0.2em;color: black;border-radius: 0.25em;background-color: #f0f8ff;}#sk-container-id-1 input.sk-toggleable__control:checked~div.sk-toggleable__content {max-height: 200px;max-width: 100%;overflow: auto;}#sk-container-id-1 input.sk-toggleable__control:checked~label.sk-toggleable__label-arrow:before {content: \"▾\";}#sk-container-id-1 div.sk-estimator input.sk-toggleable__control:checked~label.sk-toggleable__label {background-color: #d4ebff;}#sk-container-id-1 div.sk-label input.sk-toggleable__control:checked~label.sk-toggleable__label {background-color: #d4ebff;}#sk-container-id-1 input.sk-hidden--visually {border: 0;clip: rect(1px 1px 1px 1px);clip: rect(1px, 1px, 1px, 1px);height: 1px;margin: -1px;overflow: hidden;padding: 0;position: absolute;width: 1px;}#sk-container-id-1 div.sk-estimator {font-family: monospace;background-color: #f0f8ff;border: 1px dotted black;border-radius: 0.25em;box-sizing: border-box;margin-bottom: 0.5em;}#sk-container-id-1 div.sk-estimator:hover {background-color: #d4ebff;}#sk-container-id-1 div.sk-parallel-item::after {content: \"\";width: 100%;border-bottom: 1px solid gray;flex-grow: 1;}#sk-container-id-1 div.sk-label:hover label.sk-toggleable__label {background-color: #d4ebff;}#sk-container-id-1 div.sk-serial::before {content: \"\";position: absolute;border-left: 1px solid gray;box-sizing: border-box;top: 0;bottom: 0;left: 50%;z-index: 0;}#sk-container-id-1 div.sk-serial {display: flex;flex-direction: column;align-items: center;background-color: white;padding-right: 0.2em;padding-left: 0.2em;position: relative;}#sk-container-id-1 div.sk-item {position: relative;z-index: 1;}#sk-container-id-1 div.sk-parallel {display: flex;align-items: stretch;justify-content: center;background-color: white;position: relative;}#sk-container-id-1 div.sk-item::before, #sk-container-id-1 div.sk-parallel-item::before {content: \"\";position: absolute;border-left: 1px solid gray;box-sizing: border-box;top: 0;bottom: 0;left: 50%;z-index: -1;}#sk-container-id-1 div.sk-parallel-item {display: flex;flex-direction: column;z-index: 1;position: relative;background-color: white;}#sk-container-id-1 div.sk-parallel-item:first-child::after {align-self: flex-end;width: 50%;}#sk-container-id-1 div.sk-parallel-item:last-child::after {align-self: flex-start;width: 50%;}#sk-container-id-1 div.sk-parallel-item:only-child::after {width: 0;}#sk-container-id-1 div.sk-dashed-wrapped {border: 1px dashed gray;margin: 0 0.4em 0.5em 0.4em;box-sizing: border-box;padding-bottom: 0.4em;background-color: white;}#sk-container-id-1 div.sk-label label {font-family: monospace;font-weight: bold;display: inline-block;line-height: 1.2em;}#sk-container-id-1 div.sk-label-container {text-align: center;}#sk-container-id-1 div.sk-container {/* jupyter's `normalize.less` sets `[hidden] { display: none; }` but bootstrap.min.css set `[hidden] { display: none !important; }` so we also need the `!important` here to be able to override the default hidden behavior on the sphinx rendered scikit-learn.org. See: https://github.com/scikit-learn/scikit-learn/issues/21755 */display: inline-block !important;position: relative;}#sk-container-id-1 div.sk-text-repr-fallback {display: none;}</style><div id=\"sk-container-id-1\" class=\"sk-top-container\"><div class=\"sk-text-repr-fallback\"><pre>LogisticRegression(C=1e+42, solver=&#x27;liblinear&#x27;)</pre><b>In a Jupyter environment, please rerun this cell to show the HTML representation or trust the notebook. <br />On GitHub, the HTML representation is unable to render, please try loading this page with nbviewer.org.</b></div><div class=\"sk-container\" hidden><div class=\"sk-item\"><div class=\"sk-estimator sk-toggleable\"><input class=\"sk-toggleable__control sk-hidden--visually\" id=\"sk-estimator-id-1\" type=\"checkbox\" checked><label for=\"sk-estimator-id-1\" class=\"sk-toggleable__label sk-toggleable__label-arrow\">LogisticRegression</label><div class=\"sk-toggleable__content\"><pre>LogisticRegression(C=1e+42, solver=&#x27;liblinear&#x27;)</pre></div></div></div></div></div>"
      ],
      "text/plain": [
       "LogisticRegression(C=1e+42, solver='liblinear')"
      ]
     },
     "execution_count": 3,
     "metadata": {},
     "output_type": "execute_result"
    }
   ],
   "source": [
    "from sklearn.linear_model import LogisticRegression\n",
    "\n",
    "logit_reg = LogisticRegression(penalty='l2', C=1e42, solver='liblinear')\n",
    "logit_reg.fit(X, y)"
   ]
  },
  {
   "cell_type": "code",
   "execution_count": 4,
   "id": "931f0f39-8b9f-4ef6-b57d-47f5a2c7764d",
   "metadata": {},
   "outputs": [],
   "source": [
    "# confusion matrix 만들기 \n",
    "pred =logit_reg.predict(X)\n",
    "pred_y = logit_reg.predict(X) =='default'\n",
    "true_y = y == 'default'"
   ]
  },
  {
   "cell_type": "code",
   "execution_count": 5,
   "id": "cccaaea5-bc00-491e-a4bb-9dc2c8ad46b1",
   "metadata": {},
   "outputs": [],
   "source": [
    "true_pos = true_y & pred_y\n",
    "true_neg = ~true_y & ~pred_y\n",
    "\n",
    "false_pos = ~true_y & pred_y\n",
    "false_neg = true_y & ~pred_y"
   ]
  },
  {
   "cell_type": "code",
   "execution_count": 14,
   "id": "25b9eb01-59cd-43a3-9102-4cd928c648b7",
   "metadata": {},
   "outputs": [
    {
     "data": {
      "text/html": [
       "<div>\n",
       "<style scoped>\n",
       "    .dataframe tbody tr th:only-of-type {\n",
       "        vertical-align: middle;\n",
       "    }\n",
       "\n",
       "    .dataframe tbody tr th {\n",
       "        vertical-align: top;\n",
       "    }\n",
       "\n",
       "    .dataframe thead th {\n",
       "        text-align: right;\n",
       "    }\n",
       "</style>\n",
       "<table border=\"1\" class=\"dataframe\">\n",
       "  <thead>\n",
       "    <tr style=\"text-align: right;\">\n",
       "      <th></th>\n",
       "      <th>Yhat = default</th>\n",
       "      <th>Yhat = paid_off</th>\n",
       "    </tr>\n",
       "  </thead>\n",
       "  <tbody>\n",
       "    <tr>\n",
       "      <th>Y = default</th>\n",
       "      <td>14336</td>\n",
       "      <td>8335</td>\n",
       "    </tr>\n",
       "    <tr>\n",
       "      <th>Y = paid off</th>\n",
       "      <td>8148</td>\n",
       "      <td>14523</td>\n",
       "    </tr>\n",
       "  </tbody>\n",
       "</table>\n",
       "</div>"
      ],
      "text/plain": [
       "              Yhat = default  Yhat = paid_off\n",
       "Y = default            14336             8335\n",
       "Y = paid off            8148            14523"
      ]
     },
     "execution_count": 14,
     "metadata": {},
     "output_type": "execute_result"
    }
   ],
   "source": [
    "conf_mat = pd.DataFrame([[np.sum(true_pos), np.sum(false_neg)],\n",
    "                         [np.sum(false_pos), np.sum(true_neg)]],\n",
    "                        index = ['Y = default', 'Y = paid off'],\n",
    "                        columns=['Yhat = default', 'Yhat = paid_off'])\n",
    "conf_mat"
   ]
  },
  {
   "cell_type": "code",
   "execution_count": 15,
   "id": "d143e798-7dcc-4a11-8ff1-0844dc3f39d8",
   "metadata": {},
   "outputs": [],
   "source": [
    "from sklearn.metrics import confusion_matrix, precision_recall_fscore_support\n",
    "conf_mat = confusion_matrix(y, logit_reg.predict(X))"
   ]
  },
  {
   "cell_type": "code",
   "execution_count": 16,
   "id": "4803aac4-ba80-48e9-8776-861b72512e5d",
   "metadata": {},
   "outputs": [
    {
     "data": {
      "text/plain": [
       "array([[14336,  8335],\n",
       "       [ 8148, 14523]])"
      ]
     },
     "execution_count": 16,
     "metadata": {},
     "output_type": "execute_result"
    }
   ],
   "source": [
    "conf_mat"
   ]
  },
  {
   "cell_type": "code",
   "execution_count": 17,
   "id": "3b6b7fac-78a4-4b48-acc7-c48709cc4573",
   "metadata": {},
   "outputs": [
    {
     "data": {
      "text/plain": [
       "0.6376089663760897"
      ]
     },
     "execution_count": 17,
     "metadata": {},
     "output_type": "execute_result"
    }
   ],
   "source": [
    "precision = conf_mat[0, 0] / sum(conf_mat[:, 0])\n",
    "precision"
   ]
  },
  {
   "cell_type": "code",
   "execution_count": 18,
   "id": "009cf048-7bf2-4d9a-8a33-730e42612d23",
   "metadata": {},
   "outputs": [
    {
     "data": {
      "text/plain": [
       "0.6323496978518812"
      ]
     },
     "execution_count": 18,
     "metadata": {},
     "output_type": "execute_result"
    }
   ],
   "source": [
    "recall = conf_mat[0, 0] / sum(conf_mat[0, :])\n",
    "recall"
   ]
  },
  {
   "cell_type": "code",
   "execution_count": 19,
   "id": "be5a5966-61ee-47ea-97f2-e8ae8b1df2a0",
   "metadata": {},
   "outputs": [
    {
     "data": {
      "text/plain": [
       "0.6405981209474659"
      ]
     },
     "execution_count": 19,
     "metadata": {},
     "output_type": "execute_result"
    }
   ],
   "source": [
    "specificity = conf_mat[1, 1]/ sum(conf_mat[1, :])\n",
    "specificity"
   ]
  },
  {
   "cell_type": "code",
   "execution_count": 20,
   "id": "29210b81-a22e-4f01-9576-efc2daa49f82",
   "metadata": {},
   "outputs": [
    {
     "name": "stderr",
     "output_type": "stream",
     "text": [
      "/opt/anaconda3/envs/ml/lib/python3.9/site-packages/sklearn/metrics/_classification.py:1334: UndefinedMetricWarning: Precision and F-score are ill-defined and being set to 0.0 in labels with no predicted samples. Use `zero_division` parameter to control this behavior.\n",
      "  _warn_prf(average, modifier, msg_start, len(result))\n",
      "/opt/anaconda3/envs/ml/lib/python3.9/site-packages/sklearn/metrics/_classification.py:1334: UndefinedMetricWarning: Recall and F-score are ill-defined and being set to 0.0 in labels with no true samples. Use `zero_division` parameter to control this behavior.\n",
      "  _warn_prf(average, modifier, msg_start, len(result))\n"
     ]
    },
    {
     "data": {
      "text/plain": [
       "(array([0.63760897, 0.        ]),\n",
       " array([0.6323497, 0.       ]),\n",
       " array([0.63496844, 0.        ]),\n",
       " array([22671,     0]))"
      ]
     },
     "execution_count": 20,
     "metadata": {},
     "output_type": "execute_result"
    }
   ],
   "source": [
    "precision_recall_fscore_support(y, logit_reg.predict(X), labels=['default', 'paid_off'])"
   ]
  },
  {
   "cell_type": "code",
   "execution_count": 23,
   "id": "94a44e3e-0bb8-4e6e-8bc1-c78ff25b4486",
   "metadata": {},
   "outputs": [
    {
     "data": {
      "text/plain": [
       "array(['default', 'paid off'], dtype=object)"
      ]
     },
     "execution_count": 23,
     "metadata": {},
     "output_type": "execute_result"
    }
   ],
   "source": [
    "np.unique(pred)"
   ]
  },
  {
   "cell_type": "code",
   "execution_count": 25,
   "id": "62a61e4e-79f2-405a-b2d2-7b8c3fab2454",
   "metadata": {},
   "outputs": [
    {
     "data": {
      "text/plain": [
       "(array([0.63760897, 0.63535742]),\n",
       " array([0.6323497 , 0.64059812]),\n",
       " array([0.63496844, 0.63796701]),\n",
       " array([22671, 22671]))"
      ]
     },
     "execution_count": 25,
     "metadata": {},
     "output_type": "execute_result"
    }
   ],
   "source": [
    "precision_recall_fscore_support(y, logit_reg.predict(X), labels=['default', 'paid off'])"
   ]
  },
  {
   "cell_type": "code",
   "execution_count": 26,
   "id": "3c9fb278-cefc-4914-9abf-7e2f4369211c",
   "metadata": {},
   "outputs": [
    {
     "data": {
      "image/png": "[encoded data removed]",
      "text/plain": [
       "<Figure size 400x400 with 1 Axes>"
      ]
     },
     "metadata": {},
     "output_type": "display_data"
    }
   ],
   "source": [
    "# ROC curve - sklearn!!\n",
    "from sklearn.metrics import roc_curve, accuracy_score, roc_auc_score\n",
    "fpr, tpr, thresholds = roc_curve(y, logit_reg.predict_proba(X)[:, 0], \n",
    "                                 pos_label='default')\n",
    "roc_df = pd.DataFrame({'recall': tpr, 'specificity': 1 - fpr})\n",
    "\n",
    "ax = roc_df.plot(x='specificity', y='recall', figsize=(4, 4), legend=False)\n",
    "ax.set_ylim(0, 1)\n",
    "ax.set_xlim(1, 0)\n",
    "ax.plot((1, 0), (0, 1))\n",
    "ax.set_xlabel('specificity')\n",
    "ax.set_ylabel('recall')\n",
    "\n",
    "\n",
    "plt.tight_layout()\n",
    "plt.show()"
   ]
  },
  {
   "cell_type": "code",
   "execution_count": 27,
   "id": "9b293c0c-c6ec-4bc7-9cfb-a826db5696d2",
   "metadata": {},
   "outputs": [
    {
     "data": {
      "text/plain": [
       "0.6917107913974234"
      ]
     },
     "execution_count": 27,
     "metadata": {},
     "output_type": "execute_result"
    }
   ],
   "source": [
    "# AUC 면적 구하기 - 적분 계산\n",
    "np.sum(roc_df.recall[:-1] * np.diff(1-roc_df.specificity))"
   ]
  },
  {
   "cell_type": "code",
   "execution_count": 34,
   "id": "9b422b67-09a1-413d-832b-e4e803e10505",
   "metadata": {},
   "outputs": [
    {
     "data": {
      "text/plain": [
       "0.6917109470472471"
      ]
     },
     "execution_count": 34,
     "metadata": {},
     "output_type": "execute_result"
    }
   ],
   "source": [
    "np.sum(roc_df.recall[1:] * np.diff(1-roc_df.specificity))"
   ]
  },
  {
   "cell_type": "code",
   "execution_count": 29,
   "id": "60c456f7-8bb8-4ddc-ab5e-29e63b88a1b4",
   "metadata": {},
   "outputs": [
    {
     "data": {
      "text/plain": [
       "0.6917108692223353"
      ]
     },
     "execution_count": 29,
     "metadata": {},
     "output_type": "execute_result"
    }
   ],
   "source": [
    "# AUC 면적 구하기 - sklearn 모듈 이용\n",
    "roc_auc_score([1 if yi == 'default' else 0 for yi in y], logit_reg.predict_proba(X)[:, 0])"
   ]
  },
  {
   "cell_type": "code",
   "execution_count": 33,
   "id": "109e1ad6-d3bd-4587-8a8d-d730ad07f4e8",
   "metadata": {},
   "outputs": [
    {
     "data": {
      "text/plain": [
       "array([[0.24250184, 0.75749816],\n",
       "       [0.3144073 , 0.6855927 ],\n",
       "       [0.51662729, 0.48337271],\n",
       "       ...,\n",
       "       [0.44768059, 0.55231941],\n",
       "       [0.2783303 , 0.7216697 ],\n",
       "       [0.54263247, 0.45736753]])"
      ]
     },
     "execution_count": 33,
     "metadata": {},
     "output_type": "execute_result"
    }
   ],
   "source": [
    "logit_reg.predict_proba(X)"
   ]
  },
  {
   "cell_type": "markdown",
   "id": "8717f623-7902-468a-ae0f-bc6631a4ec2e",
   "metadata": {},
   "source": [
    "### 5.5 불균형 데이터 다루기\n",
    "- github에서 제공하는 결과랑 수치 차이가 좀 있다. 데이터랑 코드가 같은데 아무래도 라이브러리 버전 차이인듯"
   ]
  },
  {
   "cell_type": "code",
   "execution_count": 2,
   "id": "a6913330-56d3-4ad2-865c-ec4fba5d9f56",
   "metadata": {},
   "outputs": [],
   "source": [
    "# 원래 데이터 - default, paid_off 균형\n",
    "LOAN_DATA_CSV = ''\n",
    "loan_data = pd.read_csv(LOAN_DATA_CSV)"
   ]
  },
  {
   "cell_type": "code",
   "execution_count": 3,
   "id": "b2d99158-cd1c-49fb-a7ab-50f0fbe1a7da",
   "metadata": {},
   "outputs": [
    {
     "data": {
      "text/plain": [
       "0.5"
      ]
     },
     "execution_count": 3,
     "metadata": {},
     "output_type": "execute_result"
    }
   ],
   "source": [
    "np.mean(loan_data.outcome == 'default')"
   ]
  },
  {
   "cell_type": "code",
   "execution_count": 4,
   "id": "89ba52c3-8eae-4d0b-b35b-dc8bd7cd3da3",
   "metadata": {},
   "outputs": [],
   "source": [
    "# full 데이터 - default가 희귀 클래스\n",
    "FULL_TRAIN_SET_CSV = ''\n",
    "full_train_set = pd.read_csv(FULL_TRAIN_SET_CSV)"
   ]
  },
  {
   "cell_type": "code",
   "execution_count": 5,
   "id": "fb96c4b4-bf0a-430d-8b1a-389b4d62e7df",
   "metadata": {},
   "outputs": [
    {
     "data": {
      "text/plain": [
       "0.18894546909248502"
      ]
     },
     "execution_count": 5,
     "metadata": {},
     "output_type": "execute_result"
    }
   ],
   "source": [
    "np.mean(full_train_set.outcome == 'default')"
   ]
  },
  {
   "cell_type": "code",
   "execution_count": 6,
   "id": "14573311-327c-4573-a266-f5fa949e690c",
   "metadata": {},
   "outputs": [
    {
     "data": {
      "text/plain": [
       "Index(['status', 'loan_amnt', 'term', 'annual_inc', 'dti', 'payment_inc_ratio',\n",
       "       'revol_bal', 'revol_util', 'purpose', 'home_ownership',\n",
       "       'delinq_2yrs_zero', 'pub_rec_zero', 'open_acc', 'grade', 'outcome',\n",
       "       'emp_length', 'purpose_', 'home_', 'emp_len_'],\n",
       "      dtype='object')"
      ]
     },
     "execution_count": 6,
     "metadata": {},
     "output_type": "execute_result"
    }
   ],
   "source": [
    "full_train_set.columns"
   ]
  },
  {
   "cell_type": "code",
   "execution_count": 7,
   "id": "5ed4927e-1b7e-4bc5-ab93-d9759575af80",
   "metadata": {},
   "outputs": [],
   "source": [
    "predictors = ['payment_inc_ratio', 'purpose_', 'home_', 'emp_len_', \n",
    "              'dti', 'revol_bal', 'revol_util']"
   ]
  },
  {
   "cell_type": "code",
   "execution_count": 8,
   "id": "11debcc6-3db5-420e-8294-519fda009385",
   "metadata": {},
   "outputs": [
    {
     "data": {
      "text/plain": [
       "payment_inc_ratio    float64\n",
       "purpose_              object\n",
       "home_                 object\n",
       "emp_len_              object\n",
       "dti                  float64\n",
       "revol_bal            float64\n",
       "revol_util           float64\n",
       "dtype: object"
      ]
     },
     "execution_count": 8,
     "metadata": {},
     "output_type": "execute_result"
    }
   ],
   "source": [
    "full_train_set[predictors].dtypes"
   ]
  },
  {
   "cell_type": "code",
   "execution_count": 17,
   "id": "22554689-95f7-420f-9c93-937a23e26564",
   "metadata": {},
   "outputs": [],
   "source": [
    "predictors = ['payment_inc_ratio', 'purpose_', 'home_', 'emp_len_', \n",
    "              'dti', 'revol_bal', 'revol_util']\n",
    "outcome = 'outcome'\n",
    "X = pd.get_dummies(full_train_set[predictors], prefix='', prefix_sep='', drop_first=True, dtype=int)\n",
    "y = full_train_set[outcome]"
   ]
  },
  {
   "cell_type": "code",
   "execution_count": 18,
   "id": "d0fc6514-1396-4503-86f7-e95b3f06fd37",
   "metadata": {},
   "outputs": [],
   "source": [
    "from sklearn.linear_model import LogisticRegression"
   ]
  },
  {
   "cell_type": "code",
   "execution_count": 28,
   "id": "3aeeed8d-7edd-4aa7-98f0-0fadf4db65be",
   "metadata": {},
   "outputs": [
    {
     "data": {
      "text/html": [
       "<style>#sk-container-id-5 {color: black;background-color: white;}#sk-container-id-5 pre{padding: 0;}#sk-container-id-5 div.sk-toggleable {background-color: white;}#sk-container-id-5 label.sk-toggleable__label {cursor: pointer;display: block;width: 100%;margin-bottom: 0;padding: 0.3em;box-sizing: border-box;text-align: center;}#sk-container-id-5 label.sk-toggleable__label-arrow:before {content: \"▸\";float: left;margin-right: 0.25em;color: #696969;}#sk-container-id-5 label.sk-toggleable__label-arrow:hover:before {color: black;}#sk-container-id-5 div.sk-estimator:hover label.sk-toggleable__label-arrow:before {color: black;}#sk-container-id-5 div.sk-toggleable__content {max-height: 0;max-width: 0;overflow: hidden;text-align: left;background-color: #f0f8ff;}#sk-container-id-5 div.sk-toggleable__content pre {margin: 0.2em;color: black;border-radius: 0.25em;background-color: #f0f8ff;}#sk-container-id-5 input.sk-toggleable__control:checked~div.sk-toggleable__content {max-height: 200px;max-width: 100%;overflow: auto;}#sk-container-id-5 input.sk-toggleable__control:checked~label.sk-toggleable__label-arrow:before {content: \"▾\";}#sk-container-id-5 div.sk-estimator input.sk-toggleable__control:checked~label.sk-toggleable__label {background-color: #d4ebff;}#sk-container-id-5 div.sk-label input.sk-toggleable__control:checked~label.sk-toggleable__label {background-color: #d4ebff;}#sk-container-id-5 input.sk-hidden--visually {border: 0;clip: rect(1px 1px 1px 1px);clip: rect(1px, 1px, 1px, 1px);height: 1px;margin: -1px;overflow: hidden;padding: 0;position: absolute;width: 1px;}#sk-container-id-5 div.sk-estimator {font-family: monospace;background-color: #f0f8ff;border: 1px dotted black;border-radius: 0.25em;box-sizing: border-box;margin-bottom: 0.5em;}#sk-container-id-5 div.sk-estimator:hover {background-color: #d4ebff;}#sk-container-id-5 div.sk-parallel-item::after {content: \"\";width: 100%;border-bottom: 1px solid gray;flex-grow: 1;}#sk-container-id-5 div.sk-label:hover label.sk-toggleable__label {background-color: #d4ebff;}#sk-container-id-5 div.sk-serial::before {content: \"\";position: absolute;border-left: 1px solid gray;box-sizing: border-box;top: 0;bottom: 0;left: 50%;z-index: 0;}#sk-container-id-5 div.sk-serial {display: flex;flex-direction: column;align-items: center;background-color: white;padding-right: 0.2em;padding-left: 0.2em;position: relative;}#sk-container-id-5 div.sk-item {position: relative;z-index: 1;}#sk-container-id-5 div.sk-parallel {display: flex;align-items: stretch;justify-content: center;background-color: white;position: relative;}#sk-container-id-5 div.sk-item::before, #sk-container-id-5 div.sk-parallel-item::before {content: \"\";position: absolute;border-left: 1px solid gray;box-sizing: border-box;top: 0;bottom: 0;left: 50%;z-index: -1;}#sk-container-id-5 div.sk-parallel-item {display: flex;flex-direction: column;z-index: 1;position: relative;background-color: white;}#sk-container-id-5 div.sk-parallel-item:first-child::after {align-self: flex-end;width: 50%;}#sk-container-id-5 div.sk-parallel-item:last-child::after {align-self: flex-start;width: 50%;}#sk-container-id-5 div.sk-parallel-item:only-child::after {width: 0;}#sk-container-id-5 div.sk-dashed-wrapped {border: 1px dashed gray;margin: 0 0.4em 0.5em 0.4em;box-sizing: border-box;padding-bottom: 0.4em;background-color: white;}#sk-container-id-5 div.sk-label label {font-family: monospace;font-weight: bold;display: inline-block;line-height: 1.2em;}#sk-container-id-5 div.sk-label-container {text-align: center;}#sk-container-id-5 div.sk-container {/* jupyter's `normalize.less` sets `[hidden] { display: none; }` but bootstrap.min.css set `[hidden] { display: none !important; }` so we also need the `!important` here to be able to override the default hidden behavior on the sphinx rendered scikit-learn.org. See: https://github.com/scikit-learn/scikit-learn/issues/21755 */display: inline-block !important;position: relative;}#sk-container-id-5 div.sk-text-repr-fallback {display: none;}</style><div id=\"sk-container-id-5\" class=\"sk-top-container\"><div class=\"sk-text-repr-fallback\"><pre>LogisticRegression(C=1e+42, solver=&#x27;liblinear&#x27;)</pre><b>In a Jupyter environment, please rerun this cell to show the HTML representation or trust the notebook. <br />On GitHub, the HTML representation is unable to render, please try loading this page with nbviewer.org.</b></div><div class=\"sk-container\" hidden><div class=\"sk-item\"><div class=\"sk-estimator sk-toggleable\"><input class=\"sk-toggleable__control sk-hidden--visually\" id=\"sk-estimator-id-5\" type=\"checkbox\" checked><label for=\"sk-estimator-id-5\" class=\"sk-toggleable__label sk-toggleable__label-arrow\">LogisticRegression</label><div class=\"sk-toggleable__content\"><pre>LogisticRegression(C=1e+42, solver=&#x27;liblinear&#x27;)</pre></div></div></div></div></div>"
      ],
      "text/plain": [
       "LogisticRegression(C=1e+42, solver='liblinear')"
      ]
     },
     "execution_count": 28,
     "metadata": {},
     "output_type": "execute_result"
    }
   ],
   "source": [
    "full_model = LogisticRegression(penalty='l2', C=1e42, solver='liblinear')\n",
    "full_model.fit(X, y)"
   ]
  },
  {
   "cell_type": "code",
   "execution_count": 29,
   "id": "3ec27e9e-f0bf-4f9a-b228-aa28d0368c3e",
   "metadata": {},
   "outputs": [
    {
     "data": {
      "text/plain": [
       "0.00750081258803037"
      ]
     },
     "execution_count": 29,
     "metadata": {},
     "output_type": "execute_result"
    }
   ],
   "source": [
    "np.mean(full_model.predict(X) == 'default')"
   ]
  },
  {
   "cell_type": "code",
   "execution_count": 36,
   "id": "885bb3dc-5576-4755-9e14-382da7b7c796",
   "metadata": {},
   "outputs": [
    {
     "data": {
      "text/plain": [
       "5.292532309999559"
      ]
     },
     "execution_count": 36,
     "metadata": {},
     "output_type": "execute_result"
    }
   ],
   "source": [
    "# 가중치 이용하여 upsampling\n",
    "upsampling_wt = 1/np.mean(full_train_set.outcome == 'default')\n",
    "upsampling_wt"
   ]
  },
  {
   "cell_type": "code",
   "execution_count": 37,
   "id": "e20d304c-d9af-4307-aecb-3a6ed4f24795",
   "metadata": {},
   "outputs": [],
   "source": [
    "wt = [upsampling_wt if outcome == 'default' else 1 for outcome in full_train_set.outcome]"
   ]
  },
  {
   "cell_type": "code",
   "execution_count": 38,
   "id": "4c91bb68-bbe3-4962-8001-0500f4cba235",
   "metadata": {},
   "outputs": [
    {
     "data": {
      "text/html": [
       "<style>#sk-container-id-7 {color: black;background-color: white;}#sk-container-id-7 pre{padding: 0;}#sk-container-id-7 div.sk-toggleable {background-color: white;}#sk-container-id-7 label.sk-toggleable__label {cursor: pointer;display: block;width: 100%;margin-bottom: 0;padding: 0.3em;box-sizing: border-box;text-align: center;}#sk-container-id-7 label.sk-toggleable__label-arrow:before {content: \"▸\";float: left;margin-right: 0.25em;color: #696969;}#sk-container-id-7 label.sk-toggleable__label-arrow:hover:before {color: black;}#sk-container-id-7 div.sk-estimator:hover label.sk-toggleable__label-arrow:before {color: black;}#sk-container-id-7 div.sk-toggleable__content {max-height: 0;max-width: 0;overflow: hidden;text-align: left;background-color: #f0f8ff;}#sk-container-id-7 div.sk-toggleable__content pre {margin: 0.2em;color: black;border-radius: 0.25em;background-color: #f0f8ff;}#sk-container-id-7 input.sk-toggleable__control:checked~div.sk-toggleable__content {max-height: 200px;max-width: 100%;overflow: auto;}#sk-container-id-7 input.sk-toggleable__control:checked~label.sk-toggleable__label-arrow:before {content: \"▾\";}#sk-container-id-7 div.sk-estimator input.sk-toggleable__control:checked~label.sk-toggleable__label {background-color: #d4ebff;}#sk-container-id-7 div.sk-label input.sk-toggleable__control:checked~label.sk-toggleable__label {background-color: #d4ebff;}#sk-container-id-7 input.sk-hidden--visually {border: 0;clip: rect(1px 1px 1px 1px);clip: rect(1px, 1px, 1px, 1px);height: 1px;margin: -1px;overflow: hidden;padding: 0;position: absolute;width: 1px;}#sk-container-id-7 div.sk-estimator {font-family: monospace;background-color: #f0f8ff;border: 1px dotted black;border-radius: 0.25em;box-sizing: border-box;margin-bottom: 0.5em;}#sk-container-id-7 div.sk-estimator:hover {background-color: #d4ebff;}#sk-container-id-7 div.sk-parallel-item::after {content: \"\";width: 100%;border-bottom: 1px solid gray;flex-grow: 1;}#sk-container-id-7 div.sk-label:hover label.sk-toggleable__label {background-color: #d4ebff;}#sk-container-id-7 div.sk-serial::before {content: \"\";position: absolute;border-left: 1px solid gray;box-sizing: border-box;top: 0;bottom: 0;left: 50%;z-index: 0;}#sk-container-id-7 div.sk-serial {display: flex;flex-direction: column;align-items: center;background-color: white;padding-right: 0.2em;padding-left: 0.2em;position: relative;}#sk-container-id-7 div.sk-item {position: relative;z-index: 1;}#sk-container-id-7 div.sk-parallel {display: flex;align-items: stretch;justify-content: center;background-color: white;position: relative;}#sk-container-id-7 div.sk-item::before, #sk-container-id-7 div.sk-parallel-item::before {content: \"\";position: absolute;border-left: 1px solid gray;box-sizing: border-box;top: 0;bottom: 0;left: 50%;z-index: -1;}#sk-container-id-7 div.sk-parallel-item {display: flex;flex-direction: column;z-index: 1;position: relative;background-color: white;}#sk-container-id-7 div.sk-parallel-item:first-child::after {align-self: flex-end;width: 50%;}#sk-container-id-7 div.sk-parallel-item:last-child::after {align-self: flex-start;width: 50%;}#sk-container-id-7 div.sk-parallel-item:only-child::after {width: 0;}#sk-container-id-7 div.sk-dashed-wrapped {border: 1px dashed gray;margin: 0 0.4em 0.5em 0.4em;box-sizing: border-box;padding-bottom: 0.4em;background-color: white;}#sk-container-id-7 div.sk-label label {font-family: monospace;font-weight: bold;display: inline-block;line-height: 1.2em;}#sk-container-id-7 div.sk-label-container {text-align: center;}#sk-container-id-7 div.sk-container {/* jupyter's `normalize.less` sets `[hidden] { display: none; }` but bootstrap.min.css set `[hidden] { display: none !important; }` so we also need the `!important` here to be able to override the default hidden behavior on the sphinx rendered scikit-learn.org. See: https://github.com/scikit-learn/scikit-learn/issues/21755 */display: inline-block !important;position: relative;}#sk-container-id-7 div.sk-text-repr-fallback {display: none;}</style><div id=\"sk-container-id-7\" class=\"sk-top-container\"><div class=\"sk-text-repr-fallback\"><pre>LogisticRegression(C=1e+42, solver=&#x27;liblinear&#x27;)</pre><b>In a Jupyter environment, please rerun this cell to show the HTML representation or trust the notebook. <br />On GitHub, the HTML representation is unable to render, please try loading this page with nbviewer.org.</b></div><div class=\"sk-container\" hidden><div class=\"sk-item\"><div class=\"sk-estimator sk-toggleable\"><input class=\"sk-toggleable__control sk-hidden--visually\" id=\"sk-estimator-id-7\" type=\"checkbox\" checked><label for=\"sk-estimator-id-7\" class=\"sk-toggleable__label sk-toggleable__label-arrow\">LogisticRegression</label><div class=\"sk-toggleable__content\"><pre>LogisticRegression(C=1e+42, solver=&#x27;liblinear&#x27;)</pre></div></div></div></div></div>"
      ],
      "text/plain": [
       "LogisticRegression(C=1e+42, solver='liblinear')"
      ]
     },
     "execution_count": 38,
     "metadata": {},
     "output_type": "execute_result"
    }
   ],
   "source": [
    "full_model.fit(X, y, sample_weight=wt)"
   ]
  },
  {
   "cell_type": "code",
   "execution_count": 39,
   "id": "65c08862-1d76-4f3d-b095-b0cac3268f63",
   "metadata": {},
   "outputs": [
    {
     "data": {
      "text/plain": [
       "0.6136664805353913"
      ]
     },
     "execution_count": 39,
     "metadata": {},
     "output_type": "execute_result"
    }
   ],
   "source": [
    "np.mean(full_model.predict(X) == 'default')"
   ]
  },
  {
   "cell_type": "code",
   "execution_count": 27,
   "id": "60619b11-d097-46a5-ba73-579998176f65",
   "metadata": {},
   "outputs": [
    {
     "name": "stdout",
     "output_type": "stream",
     "text": [
      "1.1.3\n"
     ]
    }
   ],
   "source": [
    "import sklearn\n",
    "print(sklearn.__version__)"
   ]
  },
  {
   "cell_type": "code",
   "execution_count": 41,
   "id": "9719ae1c-6810-4787-aa31-17e58fc2d927",
   "metadata": {},
   "outputs": [],
   "source": [
    "# data generation\n",
    "from imblearn.over_sampling import SMOTE, ADASYN, BorderlineSMOTE"
   ]
  },
  {
   "cell_type": "code",
   "execution_count": 42,
   "id": "6de00660-96e4-42a2-b738-da005da6f026",
   "metadata": {},
   "outputs": [
    {
     "name": "stdout",
     "output_type": "stream",
     "text": [
      "percentage of loans in default (SMOTE resampled):  50.0\n",
      "percentage of loans predicted to default (SMOTE):  29.398184803353693\n",
      "percentage of loans in default (ADASYN resampled):  48.56040383751355\n",
      "27.242117896105412\n",
      "percentage of loans predicted to default (ADASYN):  None\n"
     ]
    }
   ],
   "source": [
    "X_resampled, y_resampled = SMOTE().fit_resample(X, y)\n",
    "print('percentage of loans in default (SMOTE resampled): ', \n",
    "      100 * np.mean(y_resampled == 'default'))\n",
    "\n",
    "full_model = LogisticRegression(penalty=\"l2\", C=1e42, solver='liblinear')\n",
    "full_model.fit(X_resampled, y_resampled)\n",
    "print('percentage of loans predicted to default (SMOTE): ', \n",
    "      100 * np.mean(full_model.predict(X) == 'default'))\n",
    "\n",
    "\n",
    "X_resampled, y_resampled = ADASYN().fit_resample(X, y)\n",
    "print('percentage of loans in default (ADASYN resampled): ', \n",
    "      100 * np.mean(y_resampled == 'default'))\n",
    "\n",
    "full_model = LogisticRegression(penalty=\"l2\", C=1e42, solver='liblinear')\n",
    "full_model.fit(X_resampled, y_resampled)\n",
    "print('percentage of loans predicted to default (ADASYN): ', \n",
    "print(      100 * np.mean(full_model.predict(X) == 'default')))"
   ]
  },
  {
   "cell_type": "code",
   "execution_count": 2,
   "id": "f272b69d-c842-4cec-b028-f09c15a45a50",
   "metadata": {},
   "outputs": [],
   "source": [
    "# 모델 간 예측 결과 분석\n",
    "loan_3000_path = ''\n",
    "loan3000 = pd.read_csv(loan_3000_path)"
   ]
  },
  {
   "cell_type": "code",
   "execution_count": 3,
   "id": "2ccdcfa2-9bc7-44e9-8feb-8fe2803c129c",
   "metadata": {},
   "outputs": [],
   "source": [
    "from sklearn.discriminant_analysis import LinearDiscriminantAnalysis\n",
    "from sklearn.linear_model import LogisticRegression\n",
    "from sklearn.tree import DecisionTreeClassifier\n",
    "from pygam import LinearGAM, s, f, l"
   ]
  },
  {
   "cell_type": "code",
   "execution_count": 4,
   "id": "d1696057-ef0d-48d7-b550-ddfb08710846",
   "metadata": {},
   "outputs": [
    {
     "name": "stderr",
     "output_type": "stream",
     "text": [
      "\u001b[38;2;0;255;0m100%\u001b[39m \u001b[38;2;0;255;0m(11 of 11)\u001b[39m |########################| Elapsed Time: 0:00:00 Time:  0:00:000:00\n"
     ]
    },
    {
     "name": "stdout",
     "output_type": "stream",
     "text": [
      "LinearGAM(callbacks=[Deviance(), Diffs()], fit_intercept=True, \n",
      "   max_iter=100, scale=None, terms=s(0) + s(1) + intercept, \n",
      "   tol=0.0001, verbose=False)\n"
     ]
    }
   ],
   "source": [
    "predictors = ['borrower_score', 'payment_inc_ratio']\n",
    "outcome = 'outcome'\n",
    "\n",
    "X = loan3000[predictors]\n",
    "y = loan3000[outcome]\n",
    "\n",
    "loan_tree = DecisionTreeClassifier(random_state=1, criterion='entropy', \n",
    "                                   min_impurity_decrease=0.003)\n",
    "loan_tree.fit(X, y)\n",
    "\n",
    "loan_lda = LinearDiscriminantAnalysis()\n",
    "loan_lda.fit(X, y)\n",
    "\n",
    "logit_reg = LogisticRegression(penalty=\"l2\", solver='liblinear')\n",
    "logit_reg.fit(X, y)\n",
    "\n",
    "\n",
    "## model\n",
    "gam = LinearGAM(s(0) + s(1))\n",
    "print(gam.gridsearch(X.values, [1 if yi == 'default' else 0 for yi in y]))"
   ]
  },
  {
   "cell_type": "code",
   "execution_count": 5,
   "id": "9773a976-c29d-4276-ba7d-757b4d4eecb1",
   "metadata": {},
   "outputs": [],
   "source": [
    "models = {\n",
    "    'Decision Tree': loan_tree,\n",
    "    'Linear Discriminant Analysis': loan_lda,\n",
    "    'Logistic Regression': logit_reg,\n",
    "    'Generalized Additive Model': gam,\n",
    "}"
   ]
  },
  {
   "cell_type": "code",
   "execution_count": 9,
   "id": "f23b2544-d6cc-46c7-878b-aaeb1cd65e7a",
   "metadata": {},
   "outputs": [],
   "source": [
    "predict = models['Generalized Additive Model'].predict(X)"
   ]
  },
  {
   "cell_type": "code",
   "execution_count": 10,
   "id": "d1425bb0-91fd-4df2-a583-322c78e28e68",
   "metadata": {},
   "outputs": [
    {
     "data": {
      "text/plain": [
       "(19488,)"
      ]
     },
     "execution_count": 10,
     "metadata": {},
     "output_type": "execute_result"
    }
   ],
   "source": [
    "predict.shape"
   ]
  },
  {
   "cell_type": "code",
   "execution_count": 11,
   "id": "c2b5a9f2-aeb3-4fad-a31b-d00b5091ec2f",
   "metadata": {},
   "outputs": [
    {
     "data": {
      "text/plain": [
       "array([1, 1, 1, ..., 0, 0, 0])"
      ]
     },
     "execution_count": 11,
     "metadata": {},
     "output_type": "execute_result"
    }
   ],
   "source": [
    "Z = np.array([1 if z > 0.5 else 0 for z in predict])\n",
    "Z"
   ]
  },
  {
   "cell_type": "code",
   "execution_count": 12,
   "id": "faeb1ec8-f4ce-4b0f-8510-c05505b1864b",
   "metadata": {},
   "outputs": [
    {
     "data": {
      "text/plain": [
       "(203, 96)"
      ]
     },
     "execution_count": 12,
     "metadata": {},
     "output_type": "execute_result"
    }
   ],
   "source": [
    "xx.shape"
   ]
  },
  {
   "cell_type": "code",
   "execution_count": 13,
   "id": "a5a4848a-4ffd-4272-81fc-d96db8d736a4",
   "metadata": {},
   "outputs": [
    {
     "data": {
      "text/plain": [
       "19488"
      ]
     },
     "execution_count": 13,
     "metadata": {},
     "output_type": "execute_result"
    }
   ],
   "source": [
    "203*96"
   ]
  },
  {
   "cell_type": "code",
   "execution_count": 14,
   "id": "007ebe40-8e3c-4a51-886c-a46b971c8fe7",
   "metadata": {},
   "outputs": [
    {
     "data": {
      "text/plain": [
       "-0.1"
      ]
     },
     "execution_count": 14,
     "metadata": {},
     "output_type": "execute_result"
    }
   ],
   "source": [
    "yvalues[np.argmax(Z > 0, axis=0)]"
   ]
  },
  {
   "cell_type": "code",
   "execution_count": 27,
   "id": "4c748be7-1090-4d44-8ef0-ddae611bf1bb",
   "metadata": {},
   "outputs": [
    {
     "data": {
      "text/plain": [
       "array(['default', 'default', 'default', ..., 'paid off', 'paid off',\n",
       "       'paid off'], dtype=object)"
      ]
     },
     "execution_count": 27,
     "metadata": {},
     "output_type": "execute_result"
    }
   ],
   "source": [
    "predict = models['Decision Tree'].predict(X)\n",
    "predict"
   ]
  },
  {
   "cell_type": "code",
   "execution_count": 28,
   "id": "fa458ad8-f0b8-4fb7-891c-5e1006890b34",
   "metadata": {},
   "outputs": [
    {
     "data": {
      "text/plain": [
       "array(['default', 'default', 'default', ..., 'paid off', 'paid off',\n",
       "       'paid off'], dtype=object)"
      ]
     },
     "execution_count": 28,
     "metadata": {},
     "output_type": "execute_result"
    }
   ],
   "source": [
    "predict = models['Logistic Regression'].predict(X)\n",
    "predict"
   ]
  },
  {
   "cell_type": "code",
   "execution_count": 26,
   "id": "f1c396e3-3f4e-43fd-85c3-07364a69e57b",
   "metadata": {},
   "outputs": [
    {
     "data": {
      "image/png": "[encoded data removed]",
      "text/plain": [
       "<Figure size 500x500 with 4 Axes>"
      ]
     },
     "metadata": {},
     "output_type": "display_data"
    }
   ],
   "source": [
    "fig, axes = plt.subplots(nrows=2, ncols=2, figsize=(5, 5))\n",
    "\n",
    "xvalues = np.arange(0.25, 0.73, 0.005)\n",
    "yvalues = np.arange(-0.1, 20.1, 0.1)\n",
    "xx, yy = np.meshgrid(xvalues, yvalues)\n",
    "X = pd.DataFrame({\n",
    "    'borrower_score': xx.ravel(),\n",
    "    'payment_inc_ratio': yy.ravel(),\n",
    "})\n",
    "\n",
    "boundary = {}\n",
    "\n",
    "for n, (title, model) in enumerate(models.items()):\n",
    "    ax = axes[n // 2, n % 2]\n",
    "    predict = model.predict(X)\n",
    "    \n",
    "    if 'Generalized' in title: # 모델이 확률을 출력하는 이진 분류 모델을 의미. gam\n",
    "        Z = np.array([1 if z > 0.5 else 0 for z in predict])\n",
    "    else:\n",
    "        \n",
    "        Z = np.array([1 if z == 'default' else 0 for z in predict]) # 바로 클래스로 예측\n",
    "        \n",
    "    Z = Z.reshape(xx.shape)\n",
    "\n",
    "    # 각 열에서 처음으로 1이 되는 위치의 y 값을 결정 경계로 설정\n",
    "    boundary[title] = yvalues[np.argmax(Z > 0, axis=0)]\n",
    "    # 마지막 행이 0인 경우, 해당 위치의 결정 경계를 y 축의 마지막 값으로 설정\n",
    "    boundary[title][Z[-1,:] == 0] = yvalues[-1] # 우리 데이터에서 여기 해당되는 경우는 없음\n",
    "\n",
    "    c = ax.pcolormesh(xx, yy, Z, cmap='Blues', vmin=0.1, vmax=1.3, shading='auto')\n",
    "    ax.set_title(title)\n",
    "    ax.grid(True)\n",
    "\n",
    "plt.tight_layout()\n",
    "plt.show()"
   ]
  },
  {
   "cell_type": "code",
   "execution_count": 19,
   "id": "1b5f69df-dd23-49bf-a2c9-1146d45f2cac",
   "metadata": {},
   "outputs": [
    {
     "data": {
      "text/plain": [
       "dict_keys(['Decision Tree', 'Linear Discriminant Analysis', 'Logistic Regression', 'Generalized Additive Model', 'borrower_score'])"
      ]
     },
     "execution_count": 19,
     "metadata": {},
     "output_type": "execute_result"
    }
   ],
   "source": [
    "boundary.keys()"
   ]
  },
  {
   "cell_type": "code",
   "execution_count": 24,
   "id": "794ca63c-5483-4dd4-a29d-f7ff5a344d84",
   "metadata": {},
   "outputs": [
    {
     "name": "stdout",
     "output_type": "stream",
     "text": [
      "<class 'numpy.ndarray'>\n",
      "<class 'numpy.ndarray'>\n",
      "<class 'numpy.ndarray'>\n",
      "<class 'numpy.ndarray'>\n",
      "<class 'numpy.ndarray'>\n"
     ]
    }
   ],
   "source": [
    "for v in boundary:\n",
    "    print(type(boundary[v]))"
   ]
  },
  {
   "cell_type": "code",
   "execution_count": 17,
   "id": "c0bf1558-b79b-407d-8231-b3491ae4153f",
   "metadata": {},
   "outputs": [
    {
     "data": {
      "image/png": "[encoded data removed]",
      "text/plain": [
       "<Figure size 500x400 with 1 Axes>"
      ]
     },
     "metadata": {},
     "output_type": "display_data"
    }
   ],
   "source": [
    "boundary['borrower_score'] = xvalues\n",
    "boundaries = pd.DataFrame(boundary)\n",
    "\n",
    "fig, ax = plt.subplots(figsize=(5, 4))\n",
    "boundaries.plot(x='borrower_score', ax=ax)\n",
    "ax.set_ylabel('payment_inc_ratio')\n",
    "ax.set_ylim(0, 20)\n",
    "\n",
    "\n",
    "plt.tight_layout()\n",
    "plt.show()"
   ]
  },
  {
   "cell_type": "code",
   "execution_count": null,
   "id": "b4dfc282-b045-4975-93af-08656b9ac85f",
   "metadata": {},
   "outputs": [],
   "source": []
  }
 ],
 "metadata": {
  "kernelspec": {
   "display_name": "jupyml",
   "language": "python",
   "name": "ml"
  },
  "language_info": {
   "codemirror_mode": {
    "name": "ipython",
    "version": 3
   },
   "file_extension": ".py",
   "mimetype": "text/x-python",
   "name": "python",
   "nbconvert_exporter": "python",
   "pygments_lexer": "ipython3",
   "version": "3.9.13"
  }
 },
 "nbformat": 4,
 "nbformat_minor": 5
}
