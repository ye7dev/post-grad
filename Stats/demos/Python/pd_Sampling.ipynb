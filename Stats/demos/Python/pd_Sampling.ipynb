{
 "cells": [
  {
   "cell_type": "code",
   "execution_count": 49,
   "id": "d7ff9198-cbc1-4c05-ab01-ac5490cb8a1f",
   "metadata": {},
   "outputs": [],
   "source": [
    "import pandas as pd \n",
    "import seaborn as sns\n",
    "from matplotlib import pyplot as plt\n",
    "import numpy as np\n",
    "from scipy import stats"
   ]
  },
  {
   "cell_type": "code",
   "execution_count": 2,
   "id": "77ded51e-d519-42c0-9c95-6dbd5c766d25",
   "metadata": {},
   "outputs": [],
   "source": [
    "DATA = '.'"
   ]
  },
  {
   "cell_type": "markdown",
   "id": "e5d11c5e-da11-40cb-b42a-b99e87098e32",
   "metadata": {
    "jp-MarkdownHeadingCollapsed": true
   },
   "source": [
    "### 🤑 Annual Income & Loan"
   ]
  },
  {
   "cell_type": "code",
   "execution_count": 3,
   "id": "8f2280d5-316a-4973-8664-3b70133edeb4",
   "metadata": {},
   "outputs": [
    {
     "data": {
      "text/html": [
       "<div>\n",
       "<style scoped>\n",
       "    .dataframe tbody tr th:only-of-type {\n",
       "        vertical-align: middle;\n",
       "    }\n",
       "\n",
       "    .dataframe tbody tr th {\n",
       "        vertical-align: top;\n",
       "    }\n",
       "\n",
       "    .dataframe thead th {\n",
       "        text-align: right;\n",
       "    }\n",
       "</style>\n",
       "<table border=\"1\" class=\"dataframe\">\n",
       "  <thead>\n",
       "    <tr style=\"text-align: right;\">\n",
       "      <th></th>\n",
       "      <th>x</th>\n",
       "    </tr>\n",
       "  </thead>\n",
       "  <tbody>\n",
       "    <tr>\n",
       "      <th>0</th>\n",
       "      <td>67000</td>\n",
       "    </tr>\n",
       "    <tr>\n",
       "      <th>1</th>\n",
       "      <td>52000</td>\n",
       "    </tr>\n",
       "    <tr>\n",
       "      <th>2</th>\n",
       "      <td>100000</td>\n",
       "    </tr>\n",
       "    <tr>\n",
       "      <th>3</th>\n",
       "      <td>78762</td>\n",
       "    </tr>\n",
       "    <tr>\n",
       "      <th>4</th>\n",
       "      <td>37041</td>\n",
       "    </tr>\n",
       "  </tbody>\n",
       "</table>\n",
       "</div>"
      ],
      "text/plain": [
       "        x\n",
       "0   67000\n",
       "1   52000\n",
       "2  100000\n",
       "3   78762\n",
       "4   37041"
      ]
     },
     "execution_count": 3,
     "metadata": {},
     "output_type": "execute_result"
    }
   ],
   "source": [
    "loans_income = pd.read_csv(DATA + '/loans_income.csv')\n",
    "loans_income.head()"
   ]
  },
  {
   "cell_type": "markdown",
   "id": "efa02a5f-8ac1-41f0-8083-2e19526ece30",
   "metadata": {
    "jp-MarkdownHeadingCollapsed": true
   },
   "source": [
    "### 표본의 크기와 표본 통계량의 분포 "
   ]
  },
  {
   "cell_type": "markdown",
   "id": "70233d36-f4db-4bf2-9df6-258c2a53d7d8",
   "metadata": {},
   "source": [
    "###### sample 함수 test"
   ]
  },
  {
   "cell_type": "code",
   "execution_count": 5,
   "id": "6a97bdd1-c694-4461-b9d5-e489c5d9ef7a",
   "metadata": {},
   "outputs": [
    {
     "data": {
      "text/html": [
       "<div>\n",
       "<style scoped>\n",
       "    .dataframe tbody tr th:only-of-type {\n",
       "        vertical-align: middle;\n",
       "    }\n",
       "\n",
       "    .dataframe tbody tr th {\n",
       "        vertical-align: top;\n",
       "    }\n",
       "\n",
       "    .dataframe thead th {\n",
       "        text-align: right;\n",
       "    }\n",
       "</style>\n",
       "<table border=\"1\" class=\"dataframe\">\n",
       "  <thead>\n",
       "    <tr style=\"text-align: right;\">\n",
       "      <th></th>\n",
       "      <th>x</th>\n",
       "    </tr>\n",
       "  </thead>\n",
       "  <tbody>\n",
       "    <tr>\n",
       "      <th>6084</th>\n",
       "      <td>140000</td>\n",
       "    </tr>\n",
       "    <tr>\n",
       "      <th>10933</th>\n",
       "      <td>75000</td>\n",
       "    </tr>\n",
       "    <tr>\n",
       "      <th>21435</th>\n",
       "      <td>19000</td>\n",
       "    </tr>\n",
       "    <tr>\n",
       "      <th>18471</th>\n",
       "      <td>170000</td>\n",
       "    </tr>\n",
       "    <tr>\n",
       "      <th>44249</th>\n",
       "      <td>47800</td>\n",
       "    </tr>\n",
       "  </tbody>\n",
       "</table>\n",
       "</div>"
      ],
      "text/plain": [
       "            x\n",
       "6084   140000\n",
       "10933   75000\n",
       "21435   19000\n",
       "18471  170000\n",
       "44249   47800"
      ]
     },
     "execution_count": 5,
     "metadata": {},
     "output_type": "execute_result"
    }
   ],
   "source": [
    "loans_income.sample(5)"
   ]
  },
  {
   "cell_type": "code",
   "execution_count": 6,
   "id": "1cacb9c9-c20f-4380-81fb-3cf939a8db45",
   "metadata": {},
   "outputs": [
    {
     "data": {
      "text/plain": [
       "x    81000.0\n",
       "dtype: float64"
      ]
     },
     "execution_count": 6,
     "metadata": {},
     "output_type": "execute_result"
    }
   ],
   "source": [
    "loans_income.sample(5).mean()"
   ]
  },
  {
   "cell_type": "code",
   "execution_count": 15,
   "id": "f408e384-9b5c-4d9f-83fe-59d425bf6948",
   "metadata": {},
   "outputs": [
    {
     "data": {
      "text/plain": [
       "pandas.core.frame.DataFrame"
      ]
     },
     "execution_count": 15,
     "metadata": {},
     "output_type": "execute_result"
    }
   ],
   "source": [
    "type(loans_income.sample(5))"
   ]
  },
  {
   "cell_type": "code",
   "execution_count": 23,
   "id": "738785dc-9154-4dc0-9b42-11c8737416c1",
   "metadata": {},
   "outputs": [
    {
     "data": {
      "text/plain": [
       "[35000, 47245, 80000, 40000, 82000]"
      ]
     },
     "execution_count": 23,
     "metadata": {},
     "output_type": "execute_result"
    }
   ],
   "source": [
    "list(loans_income.sample(5).x)"
   ]
  },
  {
   "cell_type": "code",
   "execution_count": 29,
   "id": "fe3b9874-80dd-4b7a-8b11-41876c5dd1fc",
   "metadata": {},
   "outputs": [
    {
     "data": {
      "text/plain": [
       "99600.0"
      ]
     },
     "execution_count": 29,
     "metadata": {},
     "output_type": "execute_result"
    }
   ],
   "source": [
    "loans_income.sample(5).mean().x"
   ]
  },
  {
   "cell_type": "markdown",
   "id": "a9248c1e-8dc6-45cf-b420-412a92cde2d8",
   "metadata": {},
   "source": [
    "###### done"
   ]
  },
  {
   "cell_type": "code",
   "execution_count": 24,
   "id": "bfe8f537-c328-47a8-9683-6710d3d81e97",
   "metadata": {},
   "outputs": [],
   "source": [
    "sample_data = pd.DataFrame({'income': list(loans_income.sample(1000).x), 'type': ['Data'] * 1000})"
   ]
  },
  {
   "cell_type": "code",
   "execution_count": 25,
   "id": "3001a4ad-8b84-4758-8e97-ff6063a9d093",
   "metadata": {},
   "outputs": [
    {
     "data": {
      "text/html": [
       "<div>\n",
       "<style scoped>\n",
       "    .dataframe tbody tr th:only-of-type {\n",
       "        vertical-align: middle;\n",
       "    }\n",
       "\n",
       "    .dataframe tbody tr th {\n",
       "        vertical-align: top;\n",
       "    }\n",
       "\n",
       "    .dataframe thead th {\n",
       "        text-align: right;\n",
       "    }\n",
       "</style>\n",
       "<table border=\"1\" class=\"dataframe\">\n",
       "  <thead>\n",
       "    <tr style=\"text-align: right;\">\n",
       "      <th></th>\n",
       "      <th>income</th>\n",
       "      <th>type</th>\n",
       "    </tr>\n",
       "  </thead>\n",
       "  <tbody>\n",
       "    <tr>\n",
       "      <th>0</th>\n",
       "      <td>41000</td>\n",
       "      <td>Data</td>\n",
       "    </tr>\n",
       "    <tr>\n",
       "      <th>1</th>\n",
       "      <td>95000</td>\n",
       "      <td>Data</td>\n",
       "    </tr>\n",
       "    <tr>\n",
       "      <th>2</th>\n",
       "      <td>41000</td>\n",
       "      <td>Data</td>\n",
       "    </tr>\n",
       "    <tr>\n",
       "      <th>3</th>\n",
       "      <td>61000</td>\n",
       "      <td>Data</td>\n",
       "    </tr>\n",
       "    <tr>\n",
       "      <th>4</th>\n",
       "      <td>63200</td>\n",
       "      <td>Data</td>\n",
       "    </tr>\n",
       "    <tr>\n",
       "      <th>...</th>\n",
       "      <td>...</td>\n",
       "      <td>...</td>\n",
       "    </tr>\n",
       "    <tr>\n",
       "      <th>995</th>\n",
       "      <td>80000</td>\n",
       "      <td>Data</td>\n",
       "    </tr>\n",
       "    <tr>\n",
       "      <th>996</th>\n",
       "      <td>70000</td>\n",
       "      <td>Data</td>\n",
       "    </tr>\n",
       "    <tr>\n",
       "      <th>997</th>\n",
       "      <td>153000</td>\n",
       "      <td>Data</td>\n",
       "    </tr>\n",
       "    <tr>\n",
       "      <th>998</th>\n",
       "      <td>66000</td>\n",
       "      <td>Data</td>\n",
       "    </tr>\n",
       "    <tr>\n",
       "      <th>999</th>\n",
       "      <td>52000</td>\n",
       "      <td>Data</td>\n",
       "    </tr>\n",
       "  </tbody>\n",
       "</table>\n",
       "<p>1000 rows × 2 columns</p>\n",
       "</div>"
      ],
      "text/plain": [
       "     income  type\n",
       "0     41000  Data\n",
       "1     95000  Data\n",
       "2     41000  Data\n",
       "3     61000  Data\n",
       "4     63200  Data\n",
       "..      ...   ...\n",
       "995   80000  Data\n",
       "996   70000  Data\n",
       "997  153000  Data\n",
       "998   66000  Data\n",
       "999   52000  Data\n",
       "\n",
       "[1000 rows x 2 columns]"
      ]
     },
     "execution_count": 25,
     "metadata": {},
     "output_type": "execute_result"
    }
   ],
   "source": [
    "sample_data"
   ]
  },
  {
   "cell_type": "code",
   "execution_count": 30,
   "id": "680c00f6-d43d-4232-ae3f-430c43d33dca",
   "metadata": {},
   "outputs": [],
   "source": [
    "sample_5 = [loans_income.sample(5).mean().x for _ in range(1000)]\n",
    "sample_mean_05 = pd.DataFrame({'income': sample_5, 'type':'Mean of 5',})\n",
    "sample_20 = [loans_income.sample(20).mean().x for _ in range(1000)]  \n",
    "sample_mean_20 = pd.DataFrame({'income': sample_20, 'type':'Mean of 20',})"
   ]
  },
  {
   "cell_type": "code",
   "execution_count": 31,
   "id": "25f93be6-4c65-4515-b6f9-01a35748a0bc",
   "metadata": {},
   "outputs": [
    {
     "data": {
      "text/html": [
       "<div>\n",
       "<style scoped>\n",
       "    .dataframe tbody tr th:only-of-type {\n",
       "        vertical-align: middle;\n",
       "    }\n",
       "\n",
       "    .dataframe tbody tr th {\n",
       "        vertical-align: top;\n",
       "    }\n",
       "\n",
       "    .dataframe thead th {\n",
       "        text-align: right;\n",
       "    }\n",
       "</style>\n",
       "<table border=\"1\" class=\"dataframe\">\n",
       "  <thead>\n",
       "    <tr style=\"text-align: right;\">\n",
       "      <th></th>\n",
       "      <th>income</th>\n",
       "      <th>type</th>\n",
       "    </tr>\n",
       "  </thead>\n",
       "  <tbody>\n",
       "    <tr>\n",
       "      <th>0</th>\n",
       "      <td>68614.8</td>\n",
       "      <td>Mean of 5</td>\n",
       "    </tr>\n",
       "    <tr>\n",
       "      <th>1</th>\n",
       "      <td>80600.0</td>\n",
       "      <td>Mean of 5</td>\n",
       "    </tr>\n",
       "    <tr>\n",
       "      <th>2</th>\n",
       "      <td>65824.0</td>\n",
       "      <td>Mean of 5</td>\n",
       "    </tr>\n",
       "    <tr>\n",
       "      <th>3</th>\n",
       "      <td>68447.8</td>\n",
       "      <td>Mean of 5</td>\n",
       "    </tr>\n",
       "    <tr>\n",
       "      <th>4</th>\n",
       "      <td>70600.0</td>\n",
       "      <td>Mean of 5</td>\n",
       "    </tr>\n",
       "    <tr>\n",
       "      <th>...</th>\n",
       "      <td>...</td>\n",
       "      <td>...</td>\n",
       "    </tr>\n",
       "    <tr>\n",
       "      <th>995</th>\n",
       "      <td>58112.4</td>\n",
       "      <td>Mean of 5</td>\n",
       "    </tr>\n",
       "    <tr>\n",
       "      <th>996</th>\n",
       "      <td>43961.6</td>\n",
       "      <td>Mean of 5</td>\n",
       "    </tr>\n",
       "    <tr>\n",
       "      <th>997</th>\n",
       "      <td>71106.4</td>\n",
       "      <td>Mean of 5</td>\n",
       "    </tr>\n",
       "    <tr>\n",
       "      <th>998</th>\n",
       "      <td>58440.0</td>\n",
       "      <td>Mean of 5</td>\n",
       "    </tr>\n",
       "    <tr>\n",
       "      <th>999</th>\n",
       "      <td>70927.6</td>\n",
       "      <td>Mean of 5</td>\n",
       "    </tr>\n",
       "  </tbody>\n",
       "</table>\n",
       "<p>1000 rows × 2 columns</p>\n",
       "</div>"
      ],
      "text/plain": [
       "      income       type\n",
       "0    68614.8  Mean of 5\n",
       "1    80600.0  Mean of 5\n",
       "2    65824.0  Mean of 5\n",
       "3    68447.8  Mean of 5\n",
       "4    70600.0  Mean of 5\n",
       "..       ...        ...\n",
       "995  58112.4  Mean of 5\n",
       "996  43961.6  Mean of 5\n",
       "997  71106.4  Mean of 5\n",
       "998  58440.0  Mean of 5\n",
       "999  70927.6  Mean of 5\n",
       "\n",
       "[1000 rows x 2 columns]"
      ]
     },
     "execution_count": 31,
     "metadata": {},
     "output_type": "execute_result"
    }
   ],
   "source": [
    "sample_mean_05 # 평균이라 소수점이 나올 수 밖에 없음 "
   ]
  },
  {
   "cell_type": "code",
   "execution_count": 33,
   "id": "72c05cc2-3fb0-4b83-91a7-238dfadac493",
   "metadata": {},
   "outputs": [
    {
     "data": {
      "text/plain": [
       "3000"
      ]
     },
     "execution_count": 33,
     "metadata": {},
     "output_type": "execute_result"
    }
   ],
   "source": [
    "results = pd.concat([sample_data, sample_mean_05, sample_mean_20])\n",
    "len(results)"
   ]
  },
  {
   "cell_type": "code",
   "execution_count": 38,
   "id": "b8d70519-d59e-44e4-a772-2d528ec546e8",
   "metadata": {},
   "outputs": [
    {
     "data": {
      "text/plain": [
       "<seaborn.axisgrid.FacetGrid at 0x15d7cf7c0>"
      ]
     },
     "execution_count": 38,
     "metadata": {},
     "output_type": "execute_result"
    },
    {
     "data": {
      "image/png": "[encoded data removed]",
      "text/plain": [
       "<Figure size 400x600 with 3 Axes>"
      ]
     },
     "metadata": {},
     "output_type": "display_data"
    }
   ],
   "source": [
    "# col: 열 이름 (컬럼 기준으로 그리드 분할), col_wrap: 열 수 제한 (자동 줄바꿈), height: 각 서브플롯의 높이, aspect: 높이 대비 너비 비율\n",
    "g = sns.FacetGrid(results, col='type', col_wrap=1, height=2, aspect=2)\n",
    "g.map(plt.hist, 'income', range=[0, 200000], bins=40) # range 주의\n",
    "g.set_axis_labels('Income', 'Count')\n",
    "g.set_titles('{col_name}')"
   ]
  },
  {
   "cell_type": "markdown",
   "id": "be6df8dd-28a7-4d6c-b098-b4c1a3ef8da1",
   "metadata": {
    "jp-MarkdownHeadingCollapsed": true
   },
   "source": [
    "### 👢Bootstrap"
   ]
  },
  {
   "cell_type": "code",
   "execution_count": 41,
   "id": "7fc5cec9-8734-4591-be44-1b4dafe7f245",
   "metadata": {},
   "outputs": [],
   "source": [
    "from sklearn.utils import resample"
   ]
  },
  {
   "cell_type": "code",
   "execution_count": 42,
   "id": "2790b042-864c-4f52-924a-4d58280f775f",
   "metadata": {},
   "outputs": [
    {
     "data": {
      "text/plain": [
       "(50000, 50000)"
      ]
     },
     "execution_count": 42,
     "metadata": {},
     "output_type": "execute_result"
    }
   ],
   "source": [
    "test = resample(loans_income)\n",
    "len(test), len(loans_income)"
   ]
  },
  {
   "cell_type": "code",
   "execution_count": 44,
   "id": "da7cb0d6-2594-429e-9d34-77c1ad8e08e2",
   "metadata": {},
   "outputs": [
    {
     "name": "stdout",
     "output_type": "stream",
     "text": [
      "Bootstrap Statistics: \n",
      "original: x    62000.0\n",
      "dtype: float64\n",
      "bias: x   -79.068\n",
      "dtype: float64\n",
      "std. error: 224.77617913539393\n"
     ]
    }
   ],
   "source": [
    "results = []\n",
    "for n_repeat in range(1000):\n",
    "    sample = resample(loans_income)\n",
    "    results.append(sample.median())\n",
    "results = pd.Series(results)\n",
    "print('Bootstrap Statistics: ')\n",
    "print(f'original: {loans_income.median()}')\n",
    "print(f'bias: {results.mean() - loans_income.median()}')\n",
    "print(f'std. error: {results.std()}')"
   ]
  },
  {
   "cell_type": "markdown",
   "id": "3229a2fb-37c7-4459-88aa-ae62286ddc39",
   "metadata": {
    "jp-MarkdownHeadingCollapsed": true
   },
   "source": [
    "### QQ plot"
   ]
  },
  {
   "cell_type": "code",
   "execution_count": 45,
   "id": "6c75ba14-0395-4ac1-b5ab-8a12b07c82fa",
   "metadata": {},
   "outputs": [],
   "source": [
    "sp500_px = pd.read_csv('/Users/youngeun/prac_stat/data/sp500_data.csv.gz', index_col=0)"
   ]
  },
  {
   "cell_type": "code",
   "execution_count": 50,
   "id": "17e50fcc-8e78-49ea-941e-1150b9468335",
   "metadata": {},
   "outputs": [
    {
     "data": {
      "text/plain": [
       "((array([-3.33278964, -3.07756454, -2.93575124, ...,  2.93575124,\n",
       "          3.07756454,  3.33278964]),\n",
       "  array([-6.60529819, -6.09667121, -5.40220961, ...,  5.12547859,\n",
       "          5.87072271,  6.03787   ])),\n",
       " (1.4823778663727085, 0.0015561067366313861, 0.9941828221936319))"
      ]
     },
     "execution_count": 50,
     "metadata": {},
     "output_type": "execute_result"
    },
    {
     "data": {
      "image/png": "[encoded data removed]",
      "text/plain": [
       "<Figure size 400x400 with 1 Axes>"
      ]
     },
     "metadata": {},
     "output_type": "display_data"
    }
   ],
   "source": [
    "nflx = sp500_px.NFLX\n",
    "nflx = np.diff(np.log(nflx[nflx>0]))\n",
    "flg, ax = plt.subplots(figsize=(4, 4))\n",
    "stats.probplot(nflx, plot=ax)"
   ]
  },
  {
   "cell_type": "markdown",
   "id": "c70dbfcb-22a7-4ade-b0f9-67f179f210d8",
   "metadata": {},
   "source": [
    "### Various distributions"
   ]
  },
  {
   "cell_type": "code",
   "execution_count": 51,
   "id": "ac9c717a-7a57-4bb0-86a2-6526c0e0f892",
   "metadata": {},
   "outputs": [
    {
     "data": {
      "text/plain": [
       "0.07289999999999995"
      ]
     },
     "execution_count": 51,
     "metadata": {},
     "output_type": "execute_result"
    }
   ],
   "source": [
    "stats.binom.pmf(2, n=5, p=0.1) # binomial"
   ]
  },
  {
   "cell_type": "code",
   "execution_count": 52,
   "id": "dfab5025-60b0-4c4d-a1f2-a7f0223317f0",
   "metadata": {},
   "outputs": [
    {
     "data": {
      "text/plain": [
       "0.99144"
      ]
     },
     "execution_count": 52,
     "metadata": {},
     "output_type": "execute_result"
    }
   ],
   "source": [
    "stats.binom.cdf(2, n=5, p=0.1)"
   ]
  },
  {
   "cell_type": "code",
   "execution_count": 53,
   "id": "c65cce49-8418-44e2-96db-7873dcd84995",
   "metadata": {},
   "outputs": [
    {
     "data": {
      "text/plain": [
       "array([4, 1, 0, 0, 0, 2, 3, 4, 2, 0, 1, 1, 0, 5, 1, 2, 0, 3, 2, 3, 3, 5,\n",
       "       3, 1, 2, 0, 0, 4, 1, 4, 0, 4, 3, 3, 2, 3, 7, 5, 3, 3, 4, 1, 3, 5,\n",
       "       2, 2, 2, 0, 3, 0, 3, 3, 3, 3, 4, 4, 3, 4, 1, 1, 1, 1, 3, 1, 2, 1,\n",
       "       4, 2, 3, 5, 1, 2, 1, 4, 4, 3, 0, 2, 1, 1, 2, 2, 3, 1, 1, 5, 0, 1,\n",
       "       1, 4, 3, 1, 0, 0, 1, 4, 1, 3, 1, 1])"
      ]
     },
     "execution_count": 53,
     "metadata": {},
     "output_type": "execute_result"
    }
   ],
   "source": [
    "stats.poisson.rvs(2, size=100) # poisson, rvs: random variates (variates, 변량: 특정 확률 분포로부터 나온 무작위 값)"
   ]
  },
  {
   "cell_type": "code",
   "execution_count": 54,
   "id": "f42b3288-23fe-499c-a2d6-53c19b5f4f13",
   "metadata": {},
   "outputs": [
    {
     "data": {
      "text/plain": [
       "array([ 3.1432967 , 13.12548003,  2.66135652,  1.81977228,  0.14174255,\n",
       "        2.3692596 ,  1.52292016,  2.27853528,  1.76566192,  5.06151133,\n",
       "        3.07426043, 14.78361721,  0.68620242, 10.61797523,  8.4048371 ,\n",
       "        9.29463492,  2.89363107,  1.24220471,  1.75282779, 14.89672569,\n",
       "        1.67696591,  4.03981007,  6.49254768,  4.11682332,  1.68906764,\n",
       "        0.79180856,  1.02175697,  1.2905045 ,  4.80769512,  8.57700775,\n",
       "        0.2172191 ,  3.13072991,  0.56586854,  2.25360168,  1.38548634,\n",
       "        1.40602194,  0.99188888,  2.90692796,  5.62590534,  2.95409395,\n",
       "        0.14678262,  2.87568328,  7.12594854,  1.27631497, 12.14105281,\n",
       "        2.95315951,  7.00656436,  4.83519053,  4.2871617 ,  1.55419001,\n",
       "        8.41418201,  0.88383671,  0.16989065,  3.82457956,  4.64758045,\n",
       "        5.12322164,  9.57314367,  6.6682014 , 12.63809292,  0.96625536,\n",
       "        6.35258965,  2.27443203,  2.44564058,  1.06731649,  0.35417151,\n",
       "        1.14132105,  1.91213008,  2.29212922,  0.57957189,  5.89453758,\n",
       "        7.02916325,  5.40425766,  0.1412279 ,  0.78364727,  4.91461063,\n",
       "        6.53359248,  0.52227527,  3.77803839,  0.1246282 ,  1.0412766 ,\n",
       "        2.38170602,  1.78279579,  4.04589279,  0.2213062 ,  1.9178776 ,\n",
       "        1.48803001,  2.85626503,  5.78406962,  4.01357057,  2.17937562,\n",
       "       11.67329358,  0.29313046,  0.92598691, 15.98905937, 11.88145927,\n",
       "        9.51560096,  3.71766202,  5.8087331 ,  1.67547598, 24.5169314 ])"
      ]
     },
     "execution_count": 54,
     "metadata": {},
     "output_type": "execute_result"
    }
   ],
   "source": [
    "stats.expon.rvs(scale=1/0.2, size=100) # exponential"
   ]
  },
  {
   "cell_type": "code",
   "execution_count": 55,
   "id": "f5ce3333-baa8-48a6-b442-556746c979de",
   "metadata": {},
   "outputs": [
    {
     "data": {
      "text/plain": [
       "array([ 6956.12476933,  2733.12185256,  2448.02723004,  2229.19766698,\n",
       "         251.0051604 ,   854.32857086, 11732.05341088,  3686.65016828,\n",
       "       11176.8976917 ,  5166.92160429,  1282.88174048,  6235.16633984,\n",
       "        1866.83425664,  4678.67983158,   827.33590755,  5196.35220149,\n",
       "        7383.02027998,  7868.7190045 ,  6021.44757989,  6485.64389633,\n",
       "        6579.95440399,  6866.45243233,  8792.19875995,  2108.10866388,\n",
       "        1756.05795143,  3260.40214719,  4148.55555626,  5255.04043595,\n",
       "        5525.31399752,  2034.6314357 ,  3922.32364422,  2527.09479936,\n",
       "        6309.02794223,  1598.1682744 ,  3514.12998202,  6121.21959851,\n",
       "        2297.4351761 ,  4890.80981854,  4630.17469986,  3800.43390107,\n",
       "        5261.43518515,  7963.47195148, 10001.28487747,  2502.77438538,\n",
       "        5736.78204877, 13334.07763292,  6540.6339009 ,  2754.92901649,\n",
       "        8349.32001829,  8017.99977386,  2950.83872955, 10921.36145884,\n",
       "        4616.03313782,  3260.42824015,  6694.37633158,  1447.81128742,\n",
       "        4381.88589303,  5711.17847099,  2606.82360988,  6288.78794156,\n",
       "         214.3144192 ,  2682.31764129,  2998.02763184,  1717.23584328,\n",
       "        2766.38908056,   636.26309661,   369.99070398,  7761.36919697,\n",
       "        4252.01845075, 14909.03766893,  1140.0164949 ,   574.41292843,\n",
       "        8647.85024382,  4393.88574954, 10902.28511432,   579.9628052 ,\n",
       "        4353.83694394,   961.40787563,  7433.15301337, 10115.43362562,\n",
       "        2652.77573335,  6384.00693593,  1640.43328469, 12555.67551757,\n",
       "        1340.26165823,  2305.26553235,  1751.57969117,  3179.52531386,\n",
       "        5424.78211765,  2103.43954826,  2045.94530852,  3515.00522747,\n",
       "        5080.79322276,  3491.37469603,  5076.7626709 ,  6165.52516104,\n",
       "        2632.59158387,  4854.30248623,  3038.09106033,  5826.89338338])"
      ]
     },
     "execution_count": 55,
     "metadata": {},
     "output_type": "execute_result"
    }
   ],
   "source": [
    "stats.weibull_min.rvs(1.5, scale=5000, size=100) # weibull"
   ]
  },
  {
   "cell_type": "code",
   "execution_count": null,
   "id": "4e1fce66-e73a-4173-9d35-1fc1a114f0e9",
   "metadata": {},
   "outputs": [],
   "source": []
  }
 ],
 "metadata": {
  "kernelspec": {
   "display_name": "jupyml",
   "language": "python",
   "name": "ml"
  },
  "language_info": {
   "codemirror_mode": {
    "name": "ipython",
    "version": 3
   },
   "file_extension": ".py",
   "mimetype": "text/x-python",
   "name": "python",
   "nbconvert_exporter": "python",
   "pygments_lexer": "ipython3",
   "version": "3.9.13"
  }
 },
 "nbformat": 4,
 "nbformat_minor": 5
}
